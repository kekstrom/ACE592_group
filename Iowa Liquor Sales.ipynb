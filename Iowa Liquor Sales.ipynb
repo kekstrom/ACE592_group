{
 "cells": [
  {
   "cell_type": "code",
   "execution_count": 1,
   "id": "sunrise-schedule",
   "metadata": {},
   "outputs": [],
   "source": [
    "import pandas as pd"
   ]
  },
  {
   "cell_type": "markdown",
   "id": "distant-illinois",
   "metadata": {},
   "source": [
    "### Read in Original Dataset\n",
    "Source: https://www.kaggle.com/residentmario/iowa-liquor-sales?select=Iowa_Liquor_Sales.csv"
   ]
  },
  {
   "cell_type": "code",
   "execution_count": 2,
   "id": "welsh-bibliography",
   "metadata": {},
   "outputs": [
    {
     "name": "stderr",
     "output_type": "stream",
     "text": [
      "C:\\Users\\josep\\anaconda3\\envs\\ace592\\lib\\site-packages\\IPython\\core\\interactiveshell.py:3146: DtypeWarning: Columns (6) have mixed types.Specify dtype option on import or set low_memory=False.\n",
      "  has_raised = await self.run_ast_nodes(code_ast.body, cell_name,\n"
     ]
    }
   ],
   "source": [
    "data=pd.read_csv('Iowa_Liquor_Sales.csv')"
   ]
  },
  {
   "cell_type": "code",
   "execution_count": 3,
   "id": "decreased-recording",
   "metadata": {},
   "outputs": [
    {
     "data": {
      "text/html": [
       "<div>\n",
       "<style scoped>\n",
       "    .dataframe tbody tr th:only-of-type {\n",
       "        vertical-align: middle;\n",
       "    }\n",
       "\n",
       "    .dataframe tbody tr th {\n",
       "        vertical-align: top;\n",
       "    }\n",
       "\n",
       "    .dataframe thead th {\n",
       "        text-align: right;\n",
       "    }\n",
       "</style>\n",
       "<table border=\"1\" class=\"dataframe\">\n",
       "  <thead>\n",
       "    <tr style=\"text-align: right;\">\n",
       "      <th></th>\n",
       "      <th>Invoice/Item Number</th>\n",
       "      <th>Date</th>\n",
       "      <th>Store Number</th>\n",
       "      <th>Store Name</th>\n",
       "      <th>Address</th>\n",
       "      <th>City</th>\n",
       "      <th>Zip Code</th>\n",
       "      <th>Store Location</th>\n",
       "      <th>County Number</th>\n",
       "      <th>County</th>\n",
       "      <th>...</th>\n",
       "      <th>Item Number</th>\n",
       "      <th>Item Description</th>\n",
       "      <th>Pack</th>\n",
       "      <th>Bottle Volume (ml)</th>\n",
       "      <th>State Bottle Cost</th>\n",
       "      <th>State Bottle Retail</th>\n",
       "      <th>Bottles Sold</th>\n",
       "      <th>Sale (Dollars)</th>\n",
       "      <th>Volume Sold (Liters)</th>\n",
       "      <th>Volume Sold (Gallons)</th>\n",
       "    </tr>\n",
       "  </thead>\n",
       "  <tbody>\n",
       "    <tr>\n",
       "      <th>0</th>\n",
       "      <td>S29198800001</td>\n",
       "      <td>11/20/2015</td>\n",
       "      <td>2191</td>\n",
       "      <td>Keokuk Spirits</td>\n",
       "      <td>1013 MAIN</td>\n",
       "      <td>KEOKUK</td>\n",
       "      <td>52632</td>\n",
       "      <td>1013 MAIN\\nKEOKUK 52632\\n(40.39978, -91.387531)</td>\n",
       "      <td>56.0</td>\n",
       "      <td>Lee</td>\n",
       "      <td>...</td>\n",
       "      <td>297</td>\n",
       "      <td>Templeton Rye w/Flask</td>\n",
       "      <td>6</td>\n",
       "      <td>750</td>\n",
       "      <td>$18.09</td>\n",
       "      <td>$27.14</td>\n",
       "      <td>6</td>\n",
       "      <td>$162.84</td>\n",
       "      <td>4.50</td>\n",
       "      <td>1.19</td>\n",
       "    </tr>\n",
       "    <tr>\n",
       "      <th>1</th>\n",
       "      <td>S29195400002</td>\n",
       "      <td>11/21/2015</td>\n",
       "      <td>2205</td>\n",
       "      <td>Ding's Honk And Holler</td>\n",
       "      <td>900 E WASHINGTON</td>\n",
       "      <td>CLARINDA</td>\n",
       "      <td>51632</td>\n",
       "      <td>900 E WASHINGTON\\nCLARINDA 51632\\n(40.739238, ...</td>\n",
       "      <td>73.0</td>\n",
       "      <td>Page</td>\n",
       "      <td>...</td>\n",
       "      <td>297</td>\n",
       "      <td>Templeton Rye w/Flask</td>\n",
       "      <td>6</td>\n",
       "      <td>750</td>\n",
       "      <td>$18.09</td>\n",
       "      <td>$27.14</td>\n",
       "      <td>12</td>\n",
       "      <td>$325.68</td>\n",
       "      <td>9.00</td>\n",
       "      <td>2.38</td>\n",
       "    </tr>\n",
       "    <tr>\n",
       "      <th>2</th>\n",
       "      <td>S29050300001</td>\n",
       "      <td>11/16/2015</td>\n",
       "      <td>3549</td>\n",
       "      <td>Quicker Liquor Store</td>\n",
       "      <td>1414 48TH ST</td>\n",
       "      <td>FORT MADISON</td>\n",
       "      <td>52627</td>\n",
       "      <td>1414 48TH ST\\nFORT MADISON 52627\\n(40.624226, ...</td>\n",
       "      <td>56.0</td>\n",
       "      <td>Lee</td>\n",
       "      <td>...</td>\n",
       "      <td>249</td>\n",
       "      <td>Disaronno Amaretto Cavalli Mignon 3-50ml Pack</td>\n",
       "      <td>20</td>\n",
       "      <td>150</td>\n",
       "      <td>$6.40</td>\n",
       "      <td>$9.60</td>\n",
       "      <td>2</td>\n",
       "      <td>$19.20</td>\n",
       "      <td>0.30</td>\n",
       "      <td>0.08</td>\n",
       "    </tr>\n",
       "    <tr>\n",
       "      <th>3</th>\n",
       "      <td>S28867700001</td>\n",
       "      <td>11/04/2015</td>\n",
       "      <td>2513</td>\n",
       "      <td>Hy-Vee Food Store #2 / Iowa City</td>\n",
       "      <td>812  S 1ST AVE</td>\n",
       "      <td>IOWA CITY</td>\n",
       "      <td>52240</td>\n",
       "      <td>812 S 1ST AVE\\nIOWA CITY 52240\\n</td>\n",
       "      <td>52.0</td>\n",
       "      <td>Johnson</td>\n",
       "      <td>...</td>\n",
       "      <td>237</td>\n",
       "      <td>Knob Creek w/ Crystal Decanter</td>\n",
       "      <td>3</td>\n",
       "      <td>1750</td>\n",
       "      <td>$35.55</td>\n",
       "      <td>$53.34</td>\n",
       "      <td>3</td>\n",
       "      <td>$160.02</td>\n",
       "      <td>5.25</td>\n",
       "      <td>1.39</td>\n",
       "    </tr>\n",
       "    <tr>\n",
       "      <th>4</th>\n",
       "      <td>S29050800001</td>\n",
       "      <td>11/17/2015</td>\n",
       "      <td>3942</td>\n",
       "      <td>Twin Town Liquor</td>\n",
       "      <td>104 HIGHWAY 30 WEST</td>\n",
       "      <td>TOLEDO</td>\n",
       "      <td>52342</td>\n",
       "      <td>104 HIGHWAY 30 WEST\\nTOLEDO 52342\\n(41.985887,...</td>\n",
       "      <td>86.0</td>\n",
       "      <td>Tama</td>\n",
       "      <td>...</td>\n",
       "      <td>249</td>\n",
       "      <td>Disaronno Amaretto Cavalli Mignon 3-50ml Pack</td>\n",
       "      <td>20</td>\n",
       "      <td>150</td>\n",
       "      <td>$6.40</td>\n",
       "      <td>$9.60</td>\n",
       "      <td>2</td>\n",
       "      <td>$19.20</td>\n",
       "      <td>0.30</td>\n",
       "      <td>0.08</td>\n",
       "    </tr>\n",
       "  </tbody>\n",
       "</table>\n",
       "<p>5 rows × 24 columns</p>\n",
       "</div>"
      ],
      "text/plain": [
       "  Invoice/Item Number        Date  Store Number  \\\n",
       "0        S29198800001  11/20/2015          2191   \n",
       "1        S29195400002  11/21/2015          2205   \n",
       "2        S29050300001  11/16/2015          3549   \n",
       "3        S28867700001  11/04/2015          2513   \n",
       "4        S29050800001  11/17/2015          3942   \n",
       "\n",
       "                         Store Name              Address          City  \\\n",
       "0                    Keokuk Spirits            1013 MAIN        KEOKUK   \n",
       "1            Ding's Honk And Holler     900 E WASHINGTON      CLARINDA   \n",
       "2              Quicker Liquor Store         1414 48TH ST  FORT MADISON   \n",
       "3  Hy-Vee Food Store #2 / Iowa City       812  S 1ST AVE     IOWA CITY   \n",
       "4                  Twin Town Liquor  104 HIGHWAY 30 WEST        TOLEDO   \n",
       "\n",
       "  Zip Code                                     Store Location  County Number  \\\n",
       "0    52632    1013 MAIN\\nKEOKUK 52632\\n(40.39978, -91.387531)           56.0   \n",
       "1    51632  900 E WASHINGTON\\nCLARINDA 51632\\n(40.739238, ...           73.0   \n",
       "2    52627  1414 48TH ST\\nFORT MADISON 52627\\n(40.624226, ...           56.0   \n",
       "3    52240                   812 S 1ST AVE\\nIOWA CITY 52240\\n           52.0   \n",
       "4    52342  104 HIGHWAY 30 WEST\\nTOLEDO 52342\\n(41.985887,...           86.0   \n",
       "\n",
       "    County  ...  Item Number                               Item Description  \\\n",
       "0      Lee  ...          297                          Templeton Rye w/Flask   \n",
       "1     Page  ...          297                          Templeton Rye w/Flask   \n",
       "2      Lee  ...          249  Disaronno Amaretto Cavalli Mignon 3-50ml Pack   \n",
       "3  Johnson  ...          237                 Knob Creek w/ Crystal Decanter   \n",
       "4     Tama  ...          249  Disaronno Amaretto Cavalli Mignon 3-50ml Pack   \n",
       "\n",
       "   Pack Bottle Volume (ml)  State Bottle Cost State Bottle Retail  \\\n",
       "0     6                750             $18.09              $27.14   \n",
       "1     6                750             $18.09              $27.14   \n",
       "2    20                150              $6.40               $9.60   \n",
       "3     3               1750             $35.55              $53.34   \n",
       "4    20                150              $6.40               $9.60   \n",
       "\n",
       "   Bottles Sold  Sale (Dollars) Volume Sold (Liters) Volume Sold (Gallons)  \n",
       "0             6         $162.84                 4.50                  1.19  \n",
       "1            12         $325.68                 9.00                  2.38  \n",
       "2             2          $19.20                 0.30                  0.08  \n",
       "3             3         $160.02                 5.25                  1.39  \n",
       "4             2          $19.20                 0.30                  0.08  \n",
       "\n",
       "[5 rows x 24 columns]"
      ]
     },
     "execution_count": 3,
     "metadata": {},
     "output_type": "execute_result"
    }
   ],
   "source": [
    "data.head()"
   ]
  },
  {
   "cell_type": "markdown",
   "id": "complimentary-vacation",
   "metadata": {},
   "source": [
    "### Original dataset has over 1.2 million readings. We cut down the size of the original dataset by refining our timeframe and removing undesired columns of data"
   ]
  },
  {
   "cell_type": "code",
   "execution_count": 4,
   "id": "posted-plate",
   "metadata": {},
   "outputs": [
    {
     "data": {
      "text/plain": [
       "12591077"
      ]
     },
     "execution_count": 4,
     "metadata": {},
     "output_type": "execute_result"
    }
   ],
   "source": [
    "len(data)"
   ]
  },
  {
   "cell_type": "markdown",
   "id": "liked-metadata",
   "metadata": {},
   "source": [
    "### Convert date to \"datetime\" type and sort original dataset by date"
   ]
  },
  {
   "cell_type": "code",
   "execution_count": 5,
   "id": "framed-harassment",
   "metadata": {},
   "outputs": [],
   "source": [
    "data = data.sort_values(by=\"Date\")"
   ]
  },
  {
   "cell_type": "code",
   "execution_count": 6,
   "id": "handmade-sudan",
   "metadata": {},
   "outputs": [],
   "source": [
    "data['Date'] = pd.to_datetime(data['Date'])"
   ]
  },
  {
   "cell_type": "markdown",
   "id": "roman-silly",
   "metadata": {},
   "source": [
    "### Remove all data before January 1, 2014"
   ]
  },
  {
   "cell_type": "code",
   "execution_count": 7,
   "id": "devoted-savage",
   "metadata": {},
   "outputs": [],
   "source": [
    "cleaned_data = data[~(data['Date'] < '2014-01-01')]"
   ]
  },
  {
   "cell_type": "code",
   "execution_count": 8,
   "id": "interior-sellers",
   "metadata": {},
   "outputs": [
    {
     "data": {
      "text/html": [
       "<div>\n",
       "<style scoped>\n",
       "    .dataframe tbody tr th:only-of-type {\n",
       "        vertical-align: middle;\n",
       "    }\n",
       "\n",
       "    .dataframe tbody tr th {\n",
       "        vertical-align: top;\n",
       "    }\n",
       "\n",
       "    .dataframe thead th {\n",
       "        text-align: right;\n",
       "    }\n",
       "</style>\n",
       "<table border=\"1\" class=\"dataframe\">\n",
       "  <thead>\n",
       "    <tr style=\"text-align: right;\">\n",
       "      <th></th>\n",
       "      <th>Invoice/Item Number</th>\n",
       "      <th>Date</th>\n",
       "      <th>Store Number</th>\n",
       "      <th>Store Name</th>\n",
       "      <th>Address</th>\n",
       "      <th>City</th>\n",
       "      <th>Zip Code</th>\n",
       "      <th>Store Location</th>\n",
       "      <th>County Number</th>\n",
       "      <th>County</th>\n",
       "      <th>...</th>\n",
       "      <th>Item Number</th>\n",
       "      <th>Item Description</th>\n",
       "      <th>Pack</th>\n",
       "      <th>Bottle Volume (ml)</th>\n",
       "      <th>State Bottle Cost</th>\n",
       "      <th>State Bottle Retail</th>\n",
       "      <th>Bottles Sold</th>\n",
       "      <th>Sale (Dollars)</th>\n",
       "      <th>Volume Sold (Liters)</th>\n",
       "      <th>Volume Sold (Gallons)</th>\n",
       "    </tr>\n",
       "  </thead>\n",
       "  <tbody>\n",
       "    <tr>\n",
       "      <th>3135633</th>\n",
       "      <td>S16624500011</td>\n",
       "      <td>2014-01-02</td>\n",
       "      <td>2622</td>\n",
       "      <td>Hy-Vee Food Store / Iowa City</td>\n",
       "      <td>1125 N DODGE ST</td>\n",
       "      <td>IOWA CITY</td>\n",
       "      <td>52240</td>\n",
       "      <td>1125 N DODGE ST\\nIOWA CITY 52240\\n(41.676203, ...</td>\n",
       "      <td>52.0</td>\n",
       "      <td>Johnson</td>\n",
       "      <td>...</td>\n",
       "      <td>9426</td>\n",
       "      <td>Passport Scotch</td>\n",
       "      <td>12</td>\n",
       "      <td>750</td>\n",
       "      <td>$7.00</td>\n",
       "      <td>$10.49</td>\n",
       "      <td>3</td>\n",
       "      <td>$31.47</td>\n",
       "      <td>2.25</td>\n",
       "      <td>0.59</td>\n",
       "    </tr>\n",
       "    <tr>\n",
       "      <th>4582481</th>\n",
       "      <td>S16630400014</td>\n",
       "      <td>2014-01-02</td>\n",
       "      <td>3756</td>\n",
       "      <td>Main Street Liquors / Manning</td>\n",
       "      <td>316 MAIN ST</td>\n",
       "      <td>MANNING</td>\n",
       "      <td>51455</td>\n",
       "      <td>316 MAIN ST\\nMANNING 51455\\n(41.908573, -95.06...</td>\n",
       "      <td>14.0</td>\n",
       "      <td>Carroll</td>\n",
       "      <td>...</td>\n",
       "      <td>89196</td>\n",
       "      <td>Jose Cuervo Especial Reposado Tequila</td>\n",
       "      <td>12</td>\n",
       "      <td>750</td>\n",
       "      <td>$10.49</td>\n",
       "      <td>$15.73</td>\n",
       "      <td>2</td>\n",
       "      <td>$31.46</td>\n",
       "      <td>1.50</td>\n",
       "      <td>0.40</td>\n",
       "    </tr>\n",
       "    <tr>\n",
       "      <th>7308411</th>\n",
       "      <td>S16627100036</td>\n",
       "      <td>2014-01-02</td>\n",
       "      <td>2510</td>\n",
       "      <td>Hy-Vee Drugstore #3 / Cedar Rapids</td>\n",
       "      <td>2405 MT VERNON RD SE</td>\n",
       "      <td>CEDAR RAPIDS</td>\n",
       "      <td>52403</td>\n",
       "      <td>2405 MT VERNON RD SE\\nCEDAR RAPIDS 52403\\n(41....</td>\n",
       "      <td>57.0</td>\n",
       "      <td>Linn</td>\n",
       "      <td>...</td>\n",
       "      <td>73051</td>\n",
       "      <td>Rumchata Mini</td>\n",
       "      <td>12</td>\n",
       "      <td>500</td>\n",
       "      <td>$8.87</td>\n",
       "      <td>$13.31</td>\n",
       "      <td>4</td>\n",
       "      <td>$53.24</td>\n",
       "      <td>2.00</td>\n",
       "      <td>0.53</td>\n",
       "    </tr>\n",
       "    <tr>\n",
       "      <th>3367681</th>\n",
       "      <td>S16640900037</td>\n",
       "      <td>2014-01-02</td>\n",
       "      <td>2633</td>\n",
       "      <td>Hy-Vee #3 / BDI / Des Moines</td>\n",
       "      <td>3221 SE 14TH ST</td>\n",
       "      <td>DES MOINES</td>\n",
       "      <td>50320</td>\n",
       "      <td>3221 SE 14TH ST\\nDES MOINES 50320\\n(41.554101,...</td>\n",
       "      <td>77.0</td>\n",
       "      <td>Polk</td>\n",
       "      <td>...</td>\n",
       "      <td>21597</td>\n",
       "      <td>Ten High</td>\n",
       "      <td>12</td>\n",
       "      <td>1000</td>\n",
       "      <td>$4.94</td>\n",
       "      <td>$7.41</td>\n",
       "      <td>108</td>\n",
       "      <td>$800.28</td>\n",
       "      <td>108.00</td>\n",
       "      <td>28.53</td>\n",
       "    </tr>\n",
       "    <tr>\n",
       "      <th>3056003</th>\n",
       "      <td>S16626900015</td>\n",
       "      <td>2014-01-02</td>\n",
       "      <td>4139</td>\n",
       "      <td>University Groceries</td>\n",
       "      <td>2121 UNIVERSITY AVE</td>\n",
       "      <td>DES MOINES</td>\n",
       "      <td>50314</td>\n",
       "      <td>2121 UNIVERSITY AVE\\nDES MOINES 50314\\n</td>\n",
       "      <td>77.0</td>\n",
       "      <td>Polk</td>\n",
       "      <td>...</td>\n",
       "      <td>34006</td>\n",
       "      <td>Absolut Swedish Vodka 80 Prf</td>\n",
       "      <td>12</td>\n",
       "      <td>750</td>\n",
       "      <td>$11.49</td>\n",
       "      <td>$17.24</td>\n",
       "      <td>12</td>\n",
       "      <td>$206.88</td>\n",
       "      <td>9.00</td>\n",
       "      <td>2.38</td>\n",
       "    </tr>\n",
       "  </tbody>\n",
       "</table>\n",
       "<p>5 rows × 24 columns</p>\n",
       "</div>"
      ],
      "text/plain": [
       "        Invoice/Item Number       Date  Store Number  \\\n",
       "3135633        S16624500011 2014-01-02          2622   \n",
       "4582481        S16630400014 2014-01-02          3756   \n",
       "7308411        S16627100036 2014-01-02          2510   \n",
       "3367681        S16640900037 2014-01-02          2633   \n",
       "3056003        S16626900015 2014-01-02          4139   \n",
       "\n",
       "                                 Store Name               Address  \\\n",
       "3135633       Hy-Vee Food Store / Iowa City       1125 N DODGE ST   \n",
       "4582481       Main Street Liquors / Manning           316 MAIN ST   \n",
       "7308411  Hy-Vee Drugstore #3 / Cedar Rapids  2405 MT VERNON RD SE   \n",
       "3367681        Hy-Vee #3 / BDI / Des Moines       3221 SE 14TH ST   \n",
       "3056003                University Groceries   2121 UNIVERSITY AVE   \n",
       "\n",
       "                 City Zip Code  \\\n",
       "3135633     IOWA CITY    52240   \n",
       "4582481       MANNING    51455   \n",
       "7308411  CEDAR RAPIDS    52403   \n",
       "3367681    DES MOINES    50320   \n",
       "3056003    DES MOINES    50314   \n",
       "\n",
       "                                            Store Location  County Number  \\\n",
       "3135633  1125 N DODGE ST\\nIOWA CITY 52240\\n(41.676203, ...           52.0   \n",
       "4582481  316 MAIN ST\\nMANNING 51455\\n(41.908573, -95.06...           14.0   \n",
       "7308411  2405 MT VERNON RD SE\\nCEDAR RAPIDS 52403\\n(41....           57.0   \n",
       "3367681  3221 SE 14TH ST\\nDES MOINES 50320\\n(41.554101,...           77.0   \n",
       "3056003            2121 UNIVERSITY AVE\\nDES MOINES 50314\\n           77.0   \n",
       "\n",
       "          County  ...  Item Number                       Item Description  \\\n",
       "3135633  Johnson  ...         9426                        Passport Scotch   \n",
       "4582481  Carroll  ...        89196  Jose Cuervo Especial Reposado Tequila   \n",
       "7308411     Linn  ...        73051                          Rumchata Mini   \n",
       "3367681     Polk  ...        21597                               Ten High   \n",
       "3056003     Polk  ...        34006           Absolut Swedish Vodka 80 Prf   \n",
       "\n",
       "         Pack Bottle Volume (ml)  State Bottle Cost State Bottle Retail  \\\n",
       "3135633    12                750              $7.00              $10.49   \n",
       "4582481    12                750             $10.49              $15.73   \n",
       "7308411    12                500              $8.87              $13.31   \n",
       "3367681    12               1000              $4.94               $7.41   \n",
       "3056003    12                750             $11.49              $17.24   \n",
       "\n",
       "         Bottles Sold  Sale (Dollars) Volume Sold (Liters)  \\\n",
       "3135633             3          $31.47                 2.25   \n",
       "4582481             2          $31.46                 1.50   \n",
       "7308411             4          $53.24                 2.00   \n",
       "3367681           108         $800.28               108.00   \n",
       "3056003            12         $206.88                 9.00   \n",
       "\n",
       "        Volume Sold (Gallons)  \n",
       "3135633                  0.59  \n",
       "4582481                  0.40  \n",
       "7308411                  0.53  \n",
       "3367681                 28.53  \n",
       "3056003                  2.38  \n",
       "\n",
       "[5 rows x 24 columns]"
      ]
     },
     "execution_count": 8,
     "metadata": {},
     "output_type": "execute_result"
    }
   ],
   "source": [
    "cleaned_data.head()"
   ]
  },
  {
   "cell_type": "markdown",
   "id": "weighted-corruption",
   "metadata": {},
   "source": [
    "### Remove all undesired columns"
   ]
  },
  {
   "cell_type": "code",
   "execution_count": 9,
   "id": "cardiovascular-bargain",
   "metadata": {},
   "outputs": [],
   "source": [
    "cleaned_data = cleaned_data.drop(columns=['Invoice/Item Number', 'Store Number', 'Store Name', 'Address', 'City', \n",
    "                                          'Store Location', 'Category', 'Category Name', 'Vendor Number', 'Vendor Name', \n",
    "                                         'Item Number', 'Item Description', 'Pack', 'Bottle Volume (ml)', 'State Bottle Cost', \n",
    "                                         'State Bottle Retail', 'Bottles Sold'])"
   ]
  },
  {
   "cell_type": "code",
   "execution_count": 10,
   "id": "front-forestry",
   "metadata": {},
   "outputs": [
    {
     "data": {
      "text/html": [
       "<div>\n",
       "<style scoped>\n",
       "    .dataframe tbody tr th:only-of-type {\n",
       "        vertical-align: middle;\n",
       "    }\n",
       "\n",
       "    .dataframe tbody tr th {\n",
       "        vertical-align: top;\n",
       "    }\n",
       "\n",
       "    .dataframe thead th {\n",
       "        text-align: right;\n",
       "    }\n",
       "</style>\n",
       "<table border=\"1\" class=\"dataframe\">\n",
       "  <thead>\n",
       "    <tr style=\"text-align: right;\">\n",
       "      <th></th>\n",
       "      <th>Date</th>\n",
       "      <th>Zip Code</th>\n",
       "      <th>County Number</th>\n",
       "      <th>County</th>\n",
       "      <th>Sale (Dollars)</th>\n",
       "      <th>Volume Sold (Liters)</th>\n",
       "      <th>Volume Sold (Gallons)</th>\n",
       "    </tr>\n",
       "  </thead>\n",
       "  <tbody>\n",
       "    <tr>\n",
       "      <th>3135633</th>\n",
       "      <td>2014-01-02</td>\n",
       "      <td>52240</td>\n",
       "      <td>52.0</td>\n",
       "      <td>Johnson</td>\n",
       "      <td>$31.47</td>\n",
       "      <td>2.25</td>\n",
       "      <td>0.59</td>\n",
       "    </tr>\n",
       "    <tr>\n",
       "      <th>4582481</th>\n",
       "      <td>2014-01-02</td>\n",
       "      <td>51455</td>\n",
       "      <td>14.0</td>\n",
       "      <td>Carroll</td>\n",
       "      <td>$31.46</td>\n",
       "      <td>1.50</td>\n",
       "      <td>0.40</td>\n",
       "    </tr>\n",
       "    <tr>\n",
       "      <th>7308411</th>\n",
       "      <td>2014-01-02</td>\n",
       "      <td>52403</td>\n",
       "      <td>57.0</td>\n",
       "      <td>Linn</td>\n",
       "      <td>$53.24</td>\n",
       "      <td>2.00</td>\n",
       "      <td>0.53</td>\n",
       "    </tr>\n",
       "    <tr>\n",
       "      <th>3367681</th>\n",
       "      <td>2014-01-02</td>\n",
       "      <td>50320</td>\n",
       "      <td>77.0</td>\n",
       "      <td>Polk</td>\n",
       "      <td>$800.28</td>\n",
       "      <td>108.00</td>\n",
       "      <td>28.53</td>\n",
       "    </tr>\n",
       "    <tr>\n",
       "      <th>3056003</th>\n",
       "      <td>2014-01-02</td>\n",
       "      <td>50314</td>\n",
       "      <td>77.0</td>\n",
       "      <td>Polk</td>\n",
       "      <td>$206.88</td>\n",
       "      <td>9.00</td>\n",
       "      <td>2.38</td>\n",
       "    </tr>\n",
       "  </tbody>\n",
       "</table>\n",
       "</div>"
      ],
      "text/plain": [
       "              Date Zip Code  County Number   County Sale (Dollars)  \\\n",
       "3135633 2014-01-02    52240           52.0  Johnson         $31.47   \n",
       "4582481 2014-01-02    51455           14.0  Carroll         $31.46   \n",
       "7308411 2014-01-02    52403           57.0     Linn         $53.24   \n",
       "3367681 2014-01-02    50320           77.0     Polk        $800.28   \n",
       "3056003 2014-01-02    50314           77.0     Polk        $206.88   \n",
       "\n",
       "         Volume Sold (Liters)  Volume Sold (Gallons)  \n",
       "3135633                  2.25                   0.59  \n",
       "4582481                  1.50                   0.40  \n",
       "7308411                  2.00                   0.53  \n",
       "3367681                108.00                  28.53  \n",
       "3056003                  9.00                   2.38  "
      ]
     },
     "execution_count": 10,
     "metadata": {},
     "output_type": "execute_result"
    }
   ],
   "source": [
    "cleaned_data.head()"
   ]
  },
  {
   "cell_type": "markdown",
   "id": "regulated-affect",
   "metadata": {},
   "source": [
    "### We want to aggregate on both the Sales and Volume columns. First, strip the dollar sign off the \"Sale (Dollars)\" column so we can convert the column values from string to float type"
   ]
  },
  {
   "cell_type": "code",
   "execution_count": 11,
   "id": "competent-stream",
   "metadata": {},
   "outputs": [],
   "source": [
    "sales = [x.strip('$') for x in cleaned_data['Sale (Dollars)']]"
   ]
  },
  {
   "cell_type": "code",
   "execution_count": 12,
   "id": "fatty-lyric",
   "metadata": {},
   "outputs": [],
   "source": [
    "cleaned_data['Sales (Dollars)'] = sales"
   ]
  },
  {
   "cell_type": "code",
   "execution_count": 13,
   "id": "regional-creature",
   "metadata": {},
   "outputs": [],
   "source": [
    "cleaned_data = cleaned_data.drop(columns=['Sale (Dollars)'])"
   ]
  },
  {
   "cell_type": "code",
   "execution_count": 14,
   "id": "understood-notification",
   "metadata": {},
   "outputs": [],
   "source": [
    "cleaned_data['Sales (Dollars)'] = cleaned_data['Sales (Dollars)'].astype('float')"
   ]
  },
  {
   "cell_type": "markdown",
   "id": "valuable-distribution",
   "metadata": {},
   "source": [
    "### Aggregate total alcohol sales by date by county"
   ]
  },
  {
   "cell_type": "code",
   "execution_count": 15,
   "id": "blind-simon",
   "metadata": {},
   "outputs": [
    {
     "data": {
      "text/plain": [
       "Date        County    \n",
       "2014-01-02  Allamakee        505.78\n",
       "            Black Hawk    106479.37\n",
       "            Boone           4136.59\n",
       "            Carroll        29607.56\n",
       "            Cedar           4186.41\n",
       "                            ...    \n",
       "2017-10-31  SAC             9744.54\n",
       "            SIOUX          20031.95\n",
       "            WARREN         20881.10\n",
       "            WEBSTER          989.62\n",
       "            WOODBURY        1054.48\n",
       "Name: Sales (Dollars), Length: 32634, dtype: float64"
      ]
     },
     "execution_count": 15,
     "metadata": {},
     "output_type": "execute_result"
    }
   ],
   "source": [
    "daily_county_sales = cleaned_data.groupby(['Date','County'])['Sales (Dollars)'].sum()\n",
    "daily_county_sales"
   ]
  },
  {
   "cell_type": "markdown",
   "id": "restricted-spyware",
   "metadata": {},
   "source": [
    "### Aggregate total alcohol volume sold by date by county"
   ]
  },
  {
   "cell_type": "code",
   "execution_count": 16,
   "id": "impossible-tracy",
   "metadata": {},
   "outputs": [
    {
     "data": {
      "text/plain": [
       "Date        County    \n",
       "2014-01-02  Allamakee       38.75\n",
       "            Black Hawk    7525.11\n",
       "            Boone          344.75\n",
       "            Carroll       2047.84\n",
       "            Cedar          289.57\n",
       "                           ...   \n",
       "2017-10-31  SAC            306.54\n",
       "            SIOUX          501.20\n",
       "            WARREN         414.57\n",
       "            WEBSTER         55.50\n",
       "            WOODBURY        10.63\n",
       "Name: Volume Sold (Liters), Length: 32634, dtype: float64"
      ]
     },
     "execution_count": 16,
     "metadata": {},
     "output_type": "execute_result"
    }
   ],
   "source": [
    "daily_county_volume_l = cleaned_data.groupby(['Date','County'])['Volume Sold (Liters)'].sum()\n",
    "daily_county_volume_l"
   ]
  },
  {
   "cell_type": "markdown",
   "id": "frozen-gregory",
   "metadata": {},
   "source": [
    "### Aggregate total alcohol sales by month by county"
   ]
  },
  {
   "cell_type": "code",
   "execution_count": 18,
   "id": "designed-browse",
   "metadata": {},
   "outputs": [
    {
     "data": {
      "text/plain": [
       "Date        County   \n",
       "2014-01-01  Adair         29286.20\n",
       "            Adams          6631.54\n",
       "            Allamakee     47324.47\n",
       "            Appanoose     71855.44\n",
       "            Audubon       11627.08\n",
       "                           ...    \n",
       "2017-10-01  WOODBURY     533066.44\n",
       "            WORTH         19501.38\n",
       "            WRIGHT        43305.26\n",
       "            Wapello       50389.41\n",
       "            Webster       18572.57\n",
       "Name: Sales (Dollars), Length: 5054, dtype: float64"
      ]
     },
     "execution_count": 18,
     "metadata": {},
     "output_type": "execute_result"
    }
   ],
   "source": [
    "monthly_county_sales = (cleaned_data.groupby([pd.Grouper(key='Date', freq='MS'), 'County'])['Sales (Dollars)'].sum())\n",
    "monthly_county_sales"
   ]
  },
  {
   "cell_type": "markdown",
   "id": "facial-machine",
   "metadata": {},
   "source": [
    "### Aggregate total alcohol volume sold by month by county"
   ]
  },
  {
   "cell_type": "code",
   "execution_count": 19,
   "id": "auburn-disclaimer",
   "metadata": {},
   "outputs": [
    {
     "data": {
      "text/plain": [
       "Date        County   \n",
       "2014-01-01  Adair         2401.90\n",
       "            Adams          498.91\n",
       "            Allamakee     3923.81\n",
       "            Appanoose     6082.76\n",
       "            Audubon       1018.00\n",
       "                           ...   \n",
       "2017-10-01  WOODBURY     10634.18\n",
       "            WORTH          589.33\n",
       "            WRIGHT        1167.53\n",
       "            Wapello       1216.17\n",
       "            Webster        346.27\n",
       "Name: Volume Sold (Liters), Length: 5054, dtype: float64"
      ]
     },
     "execution_count": 19,
     "metadata": {},
     "output_type": "execute_result"
    }
   ],
   "source": [
    "monthly_county_volume_l = (cleaned_data.groupby([pd.Grouper(key='Date', freq='MS'), 'County'])['Volume Sold (Liters)'].sum())\n",
    "monthly_county_volume_l"
   ]
  },
  {
   "cell_type": "code",
   "execution_count": null,
   "id": "nuclear-ballot",
   "metadata": {},
   "outputs": [],
   "source": []
  }
 ],
 "metadata": {
  "kernelspec": {
   "display_name": "Python 3",
   "language": "python",
   "name": "python3"
  },
  "language_info": {
   "codemirror_mode": {
    "name": "ipython",
    "version": 3
   },
   "file_extension": ".py",
   "mimetype": "text/x-python",
   "name": "python",
   "nbconvert_exporter": "python",
   "pygments_lexer": "ipython3",
   "version": "3.8.5"
  }
 },
 "nbformat": 4,
 "nbformat_minor": 5
}
