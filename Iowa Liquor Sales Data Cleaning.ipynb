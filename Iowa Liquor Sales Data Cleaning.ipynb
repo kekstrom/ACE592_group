{
 "cells": [
  {
   "cell_type": "code",
   "execution_count": 4,
   "id": "native-adelaide",
   "metadata": {},
   "outputs": [],
   "source": [
    "import pandas as pd\n",
    "import numpy as np\n",
    "import re"
   ]
  },
  {
   "cell_type": "markdown",
   "id": "internal-strike",
   "metadata": {},
   "source": [
    "### Read in Original Dataset\n",
    "Source: https://www.kaggle.com/residentmario/iowa-liquor-sales?select=Iowa_Liquor_Sales.csv"
   ]
  },
  {
   "cell_type": "code",
   "execution_count": 3,
   "id": "intermediate-values",
   "metadata": {
    "scrolled": true
   },
   "outputs": [],
   "source": [
    "data=pd.read_csv('../Iowa_Liquor_Sales.csv') \n",
    "#b/c the file is too big to fit into the git repo put the data in the previous folder as where your repo is\n",
    "#for example: the file path to my repo: C:\\Users\\brayd\\Box Sync\\Spring 2021 UIUC\\ACE592_group\n",
    "#PUT THE DATA HERE: C:\\Users\\brayd\\Box Sync\\Spring 2021 UIUC"
   ]
  },
  {
   "cell_type": "code",
   "execution_count": 5,
   "id": "positive-james",
   "metadata": {
    "scrolled": false
   },
   "outputs": [
    {
     "data": {
      "text/html": [
       "<div>\n",
       "<style scoped>\n",
       "    .dataframe tbody tr th:only-of-type {\n",
       "        vertical-align: middle;\n",
       "    }\n",
       "\n",
       "    .dataframe tbody tr th {\n",
       "        vertical-align: top;\n",
       "    }\n",
       "\n",
       "    .dataframe thead th {\n",
       "        text-align: right;\n",
       "    }\n",
       "</style>\n",
       "<table border=\"1\" class=\"dataframe\">\n",
       "  <thead>\n",
       "    <tr style=\"text-align: right;\">\n",
       "      <th></th>\n",
       "      <th>Invoice/Item Number</th>\n",
       "      <th>Date</th>\n",
       "      <th>Store Number</th>\n",
       "      <th>Store Name</th>\n",
       "      <th>Address</th>\n",
       "      <th>City</th>\n",
       "      <th>Zip Code</th>\n",
       "      <th>Store Location</th>\n",
       "      <th>County Number</th>\n",
       "      <th>County</th>\n",
       "      <th>...</th>\n",
       "      <th>Item Number</th>\n",
       "      <th>Item Description</th>\n",
       "      <th>Pack</th>\n",
       "      <th>Bottle Volume (ml)</th>\n",
       "      <th>State Bottle Cost</th>\n",
       "      <th>State Bottle Retail</th>\n",
       "      <th>Bottles Sold</th>\n",
       "      <th>Sale (Dollars)</th>\n",
       "      <th>Volume Sold (Liters)</th>\n",
       "      <th>Volume Sold (Gallons)</th>\n",
       "    </tr>\n",
       "  </thead>\n",
       "  <tbody>\n",
       "    <tr>\n",
       "      <th>0</th>\n",
       "      <td>S29198800001</td>\n",
       "      <td>11/20/2015</td>\n",
       "      <td>2191</td>\n",
       "      <td>Keokuk Spirits</td>\n",
       "      <td>1013 MAIN</td>\n",
       "      <td>KEOKUK</td>\n",
       "      <td>52632</td>\n",
       "      <td>1013 MAIN\\nKEOKUK 52632\\n(40.39978, -91.387531)</td>\n",
       "      <td>56.0</td>\n",
       "      <td>Lee</td>\n",
       "      <td>...</td>\n",
       "      <td>297</td>\n",
       "      <td>Templeton Rye w/Flask</td>\n",
       "      <td>6</td>\n",
       "      <td>750</td>\n",
       "      <td>$18.09</td>\n",
       "      <td>$27.14</td>\n",
       "      <td>6</td>\n",
       "      <td>$162.84</td>\n",
       "      <td>4.50</td>\n",
       "      <td>1.19</td>\n",
       "    </tr>\n",
       "    <tr>\n",
       "      <th>1</th>\n",
       "      <td>S29195400002</td>\n",
       "      <td>11/21/2015</td>\n",
       "      <td>2205</td>\n",
       "      <td>Ding's Honk And Holler</td>\n",
       "      <td>900 E WASHINGTON</td>\n",
       "      <td>CLARINDA</td>\n",
       "      <td>51632</td>\n",
       "      <td>900 E WASHINGTON\\nCLARINDA 51632\\n(40.739238, ...</td>\n",
       "      <td>73.0</td>\n",
       "      <td>Page</td>\n",
       "      <td>...</td>\n",
       "      <td>297</td>\n",
       "      <td>Templeton Rye w/Flask</td>\n",
       "      <td>6</td>\n",
       "      <td>750</td>\n",
       "      <td>$18.09</td>\n",
       "      <td>$27.14</td>\n",
       "      <td>12</td>\n",
       "      <td>$325.68</td>\n",
       "      <td>9.00</td>\n",
       "      <td>2.38</td>\n",
       "    </tr>\n",
       "    <tr>\n",
       "      <th>2</th>\n",
       "      <td>S29050300001</td>\n",
       "      <td>11/16/2015</td>\n",
       "      <td>3549</td>\n",
       "      <td>Quicker Liquor Store</td>\n",
       "      <td>1414 48TH ST</td>\n",
       "      <td>FORT MADISON</td>\n",
       "      <td>52627</td>\n",
       "      <td>1414 48TH ST\\nFORT MADISON 52627\\n(40.624226, ...</td>\n",
       "      <td>56.0</td>\n",
       "      <td>Lee</td>\n",
       "      <td>...</td>\n",
       "      <td>249</td>\n",
       "      <td>Disaronno Amaretto Cavalli Mignon 3-50ml Pack</td>\n",
       "      <td>20</td>\n",
       "      <td>150</td>\n",
       "      <td>$6.40</td>\n",
       "      <td>$9.60</td>\n",
       "      <td>2</td>\n",
       "      <td>$19.20</td>\n",
       "      <td>0.30</td>\n",
       "      <td>0.08</td>\n",
       "    </tr>\n",
       "    <tr>\n",
       "      <th>3</th>\n",
       "      <td>S28867700001</td>\n",
       "      <td>11/04/2015</td>\n",
       "      <td>2513</td>\n",
       "      <td>Hy-Vee Food Store #2 / Iowa City</td>\n",
       "      <td>812  S 1ST AVE</td>\n",
       "      <td>IOWA CITY</td>\n",
       "      <td>52240</td>\n",
       "      <td>812 S 1ST AVE\\nIOWA CITY 52240\\n</td>\n",
       "      <td>52.0</td>\n",
       "      <td>Johnson</td>\n",
       "      <td>...</td>\n",
       "      <td>237</td>\n",
       "      <td>Knob Creek w/ Crystal Decanter</td>\n",
       "      <td>3</td>\n",
       "      <td>1750</td>\n",
       "      <td>$35.55</td>\n",
       "      <td>$53.34</td>\n",
       "      <td>3</td>\n",
       "      <td>$160.02</td>\n",
       "      <td>5.25</td>\n",
       "      <td>1.39</td>\n",
       "    </tr>\n",
       "    <tr>\n",
       "      <th>4</th>\n",
       "      <td>S29050800001</td>\n",
       "      <td>11/17/2015</td>\n",
       "      <td>3942</td>\n",
       "      <td>Twin Town Liquor</td>\n",
       "      <td>104 HIGHWAY 30 WEST</td>\n",
       "      <td>TOLEDO</td>\n",
       "      <td>52342</td>\n",
       "      <td>104 HIGHWAY 30 WEST\\nTOLEDO 52342\\n(41.985887,...</td>\n",
       "      <td>86.0</td>\n",
       "      <td>Tama</td>\n",
       "      <td>...</td>\n",
       "      <td>249</td>\n",
       "      <td>Disaronno Amaretto Cavalli Mignon 3-50ml Pack</td>\n",
       "      <td>20</td>\n",
       "      <td>150</td>\n",
       "      <td>$6.40</td>\n",
       "      <td>$9.60</td>\n",
       "      <td>2</td>\n",
       "      <td>$19.20</td>\n",
       "      <td>0.30</td>\n",
       "      <td>0.08</td>\n",
       "    </tr>\n",
       "  </tbody>\n",
       "</table>\n",
       "<p>5 rows × 24 columns</p>\n",
       "</div>"
      ],
      "text/plain": [
       "  Invoice/Item Number        Date  Store Number  \\\n",
       "0        S29198800001  11/20/2015          2191   \n",
       "1        S29195400002  11/21/2015          2205   \n",
       "2        S29050300001  11/16/2015          3549   \n",
       "3        S28867700001  11/04/2015          2513   \n",
       "4        S29050800001  11/17/2015          3942   \n",
       "\n",
       "                         Store Name              Address          City  \\\n",
       "0                    Keokuk Spirits            1013 MAIN        KEOKUK   \n",
       "1            Ding's Honk And Holler     900 E WASHINGTON      CLARINDA   \n",
       "2              Quicker Liquor Store         1414 48TH ST  FORT MADISON   \n",
       "3  Hy-Vee Food Store #2 / Iowa City       812  S 1ST AVE     IOWA CITY   \n",
       "4                  Twin Town Liquor  104 HIGHWAY 30 WEST        TOLEDO   \n",
       "\n",
       "  Zip Code                                     Store Location  County Number  \\\n",
       "0    52632    1013 MAIN\\nKEOKUK 52632\\n(40.39978, -91.387531)           56.0   \n",
       "1    51632  900 E WASHINGTON\\nCLARINDA 51632\\n(40.739238, ...           73.0   \n",
       "2    52627  1414 48TH ST\\nFORT MADISON 52627\\n(40.624226, ...           56.0   \n",
       "3    52240                   812 S 1ST AVE\\nIOWA CITY 52240\\n           52.0   \n",
       "4    52342  104 HIGHWAY 30 WEST\\nTOLEDO 52342\\n(41.985887,...           86.0   \n",
       "\n",
       "    County  ...  Item Number                               Item Description  \\\n",
       "0      Lee  ...          297                          Templeton Rye w/Flask   \n",
       "1     Page  ...          297                          Templeton Rye w/Flask   \n",
       "2      Lee  ...          249  Disaronno Amaretto Cavalli Mignon 3-50ml Pack   \n",
       "3  Johnson  ...          237                 Knob Creek w/ Crystal Decanter   \n",
       "4     Tama  ...          249  Disaronno Amaretto Cavalli Mignon 3-50ml Pack   \n",
       "\n",
       "   Pack Bottle Volume (ml)  State Bottle Cost State Bottle Retail  \\\n",
       "0     6                750             $18.09              $27.14   \n",
       "1     6                750             $18.09              $27.14   \n",
       "2    20                150              $6.40               $9.60   \n",
       "3     3               1750             $35.55              $53.34   \n",
       "4    20                150              $6.40               $9.60   \n",
       "\n",
       "   Bottles Sold  Sale (Dollars) Volume Sold (Liters) Volume Sold (Gallons)  \n",
       "0             6         $162.84                 4.50                  1.19  \n",
       "1            12         $325.68                 9.00                  2.38  \n",
       "2             2          $19.20                 0.30                  0.08  \n",
       "3             3         $160.02                 5.25                  1.39  \n",
       "4             2          $19.20                 0.30                  0.08  \n",
       "\n",
       "[5 rows x 24 columns]"
      ]
     },
     "execution_count": 5,
     "metadata": {},
     "output_type": "execute_result"
    }
   ],
   "source": [
    "data.head()"
   ]
  },
  {
   "cell_type": "markdown",
   "id": "failing-sculpture",
   "metadata": {},
   "source": [
    "### Original dataset has over 12.5 million readings. We cut down the size of the original dataset by refining our timeframe and removing undesired columns of data"
   ]
  },
  {
   "cell_type": "code",
   "execution_count": 6,
   "id": "awful-richardson",
   "metadata": {},
   "outputs": [
    {
     "data": {
      "text/plain": [
       "12591077"
      ]
     },
     "execution_count": 6,
     "metadata": {},
     "output_type": "execute_result"
    }
   ],
   "source": [
    "len(data) #number of observations"
   ]
  },
  {
   "cell_type": "markdown",
   "id": "tender-sugar",
   "metadata": {},
   "source": [
    "### Convert date to \"datetime\" type and sort original dataset by date"
   ]
  },
  {
   "cell_type": "code",
   "execution_count": 7,
   "id": "explicit-lodging",
   "metadata": {},
   "outputs": [],
   "source": [
    "data['Date'] = pd.to_datetime(data['Date']) #convert 'Date' column to datetime type"
   ]
  },
  {
   "cell_type": "code",
   "execution_count": 8,
   "id": "naughty-officer",
   "metadata": {},
   "outputs": [],
   "source": [
    "data = data.sort_values(by=\"Date\") #sort dates in chronological order "
   ]
  },
  {
   "cell_type": "markdown",
   "id": "false-jason",
   "metadata": {},
   "source": [
    "### Remove all data before January 1, 2014"
   ]
  },
  {
   "cell_type": "code",
   "execution_count": 9,
   "id": "systematic-springfield",
   "metadata": {},
   "outputs": [],
   "source": [
    "cleaned_data = data[~(data['Date'] < '2014-01-01')] #subset data to only dates after 2014"
   ]
  },
  {
   "cell_type": "code",
   "execution_count": 10,
   "id": "hindu-character",
   "metadata": {
    "scrolled": true
   },
   "outputs": [
    {
     "data": {
      "text/html": [
       "<div>\n",
       "<style scoped>\n",
       "    .dataframe tbody tr th:only-of-type {\n",
       "        vertical-align: middle;\n",
       "    }\n",
       "\n",
       "    .dataframe tbody tr th {\n",
       "        vertical-align: top;\n",
       "    }\n",
       "\n",
       "    .dataframe thead th {\n",
       "        text-align: right;\n",
       "    }\n",
       "</style>\n",
       "<table border=\"1\" class=\"dataframe\">\n",
       "  <thead>\n",
       "    <tr style=\"text-align: right;\">\n",
       "      <th></th>\n",
       "      <th>Invoice/Item Number</th>\n",
       "      <th>Date</th>\n",
       "      <th>Store Number</th>\n",
       "      <th>Store Name</th>\n",
       "      <th>Address</th>\n",
       "      <th>City</th>\n",
       "      <th>Zip Code</th>\n",
       "      <th>Store Location</th>\n",
       "      <th>County Number</th>\n",
       "      <th>County</th>\n",
       "      <th>...</th>\n",
       "      <th>Item Number</th>\n",
       "      <th>Item Description</th>\n",
       "      <th>Pack</th>\n",
       "      <th>Bottle Volume (ml)</th>\n",
       "      <th>State Bottle Cost</th>\n",
       "      <th>State Bottle Retail</th>\n",
       "      <th>Bottles Sold</th>\n",
       "      <th>Sale (Dollars)</th>\n",
       "      <th>Volume Sold (Liters)</th>\n",
       "      <th>Volume Sold (Gallons)</th>\n",
       "    </tr>\n",
       "  </thead>\n",
       "  <tbody>\n",
       "    <tr>\n",
       "      <th>6761203</th>\n",
       "      <td>S16635300023</td>\n",
       "      <td>2014-01-02</td>\n",
       "      <td>2448</td>\n",
       "      <td>Bottle Boutique</td>\n",
       "      <td>705 E. SECOND</td>\n",
       "      <td>INDIANOLA</td>\n",
       "      <td>50125</td>\n",
       "      <td>705 E. SECOND\\nINDIANOLA 50125\\n(41.358191, -9...</td>\n",
       "      <td>91.0</td>\n",
       "      <td>Warren</td>\n",
       "      <td>...</td>\n",
       "      <td>15940</td>\n",
       "      <td>Tullamore Dew Irish Whisky</td>\n",
       "      <td>12</td>\n",
       "      <td>750</td>\n",
       "      <td>$13.60</td>\n",
       "      <td>$20.39</td>\n",
       "      <td>1</td>\n",
       "      <td>$20.39</td>\n",
       "      <td>0.75</td>\n",
       "      <td>0.20</td>\n",
       "    </tr>\n",
       "    <tr>\n",
       "      <th>5368674</th>\n",
       "      <td>S16625000025</td>\n",
       "      <td>2014-01-02</td>\n",
       "      <td>2248</td>\n",
       "      <td>Ingersoll Liquor and Beverage</td>\n",
       "      <td>3500 INGERSOLL AVE</td>\n",
       "      <td>DES MOINES</td>\n",
       "      <td>50312</td>\n",
       "      <td>3500 INGERSOLL AVE\\nDES MOINES 50312\\n(41.5863...</td>\n",
       "      <td>77.0</td>\n",
       "      <td>Polk</td>\n",
       "      <td>...</td>\n",
       "      <td>42166</td>\n",
       "      <td>Myers's Rum Original Dark</td>\n",
       "      <td>12</td>\n",
       "      <td>750</td>\n",
       "      <td>$10.00</td>\n",
       "      <td>$14.99</td>\n",
       "      <td>3</td>\n",
       "      <td>$44.97</td>\n",
       "      <td>2.25</td>\n",
       "      <td>0.59</td>\n",
       "    </tr>\n",
       "    <tr>\n",
       "      <th>3846964</th>\n",
       "      <td>S16634200035</td>\n",
       "      <td>2014-01-02</td>\n",
       "      <td>3785</td>\n",
       "      <td>Southside Tobacco and Liquor</td>\n",
       "      <td>2424 SW 9TH ST</td>\n",
       "      <td>DES MOINES</td>\n",
       "      <td>50315</td>\n",
       "      <td>2424 SW 9TH ST\\nDES MOINES 50315\\n(41.56373, -...</td>\n",
       "      <td>77.0</td>\n",
       "      <td>Polk</td>\n",
       "      <td>...</td>\n",
       "      <td>45887</td>\n",
       "      <td>Sailor Jerry Spiced Navy Rum</td>\n",
       "      <td>12</td>\n",
       "      <td>1000</td>\n",
       "      <td>$11.20</td>\n",
       "      <td>$16.79</td>\n",
       "      <td>1</td>\n",
       "      <td>$16.79</td>\n",
       "      <td>1.00</td>\n",
       "      <td>0.26</td>\n",
       "    </tr>\n",
       "    <tr>\n",
       "      <th>2255583</th>\n",
       "      <td>S16640300091</td>\n",
       "      <td>2014-01-02</td>\n",
       "      <td>4344</td>\n",
       "      <td>Spirits / Grimes</td>\n",
       "      <td>109 EAST 1ST ST STE B</td>\n",
       "      <td>GRIMES</td>\n",
       "      <td>50111</td>\n",
       "      <td>109 EAST 1ST ST STE B\\nGRIMES 50111\\n(41.6884,...</td>\n",
       "      <td>77.0</td>\n",
       "      <td>Polk</td>\n",
       "      <td>...</td>\n",
       "      <td>87510</td>\n",
       "      <td>1800 Silver Tequila</td>\n",
       "      <td>12</td>\n",
       "      <td>750</td>\n",
       "      <td>$14.50</td>\n",
       "      <td>$21.74</td>\n",
       "      <td>1</td>\n",
       "      <td>$21.74</td>\n",
       "      <td>0.75</td>\n",
       "      <td>0.20</td>\n",
       "    </tr>\n",
       "    <tr>\n",
       "      <th>5144101</th>\n",
       "      <td>S16630700062</td>\n",
       "      <td>2014-01-02</td>\n",
       "      <td>2561</td>\n",
       "      <td>Hy-Vee Food Store / Fleur / DSM</td>\n",
       "      <td>4605 FLEUR DRIVE</td>\n",
       "      <td>DES MOINES</td>\n",
       "      <td>50321</td>\n",
       "      <td>4605 FLEUR DRIVE\\nDES MOINES 50321\\n(41.542816...</td>\n",
       "      <td>77.0</td>\n",
       "      <td>Polk</td>\n",
       "      <td>...</td>\n",
       "      <td>4796</td>\n",
       "      <td>Cutty Sark Scotch</td>\n",
       "      <td>12</td>\n",
       "      <td>750</td>\n",
       "      <td>$11.90</td>\n",
       "      <td>$17.85</td>\n",
       "      <td>4</td>\n",
       "      <td>$71.40</td>\n",
       "      <td>3.00</td>\n",
       "      <td>0.79</td>\n",
       "    </tr>\n",
       "  </tbody>\n",
       "</table>\n",
       "<p>5 rows × 24 columns</p>\n",
       "</div>"
      ],
      "text/plain": [
       "        Invoice/Item Number       Date  Store Number  \\\n",
       "6761203        S16635300023 2014-01-02          2448   \n",
       "5368674        S16625000025 2014-01-02          2248   \n",
       "3846964        S16634200035 2014-01-02          3785   \n",
       "2255583        S16640300091 2014-01-02          4344   \n",
       "5144101        S16630700062 2014-01-02          2561   \n",
       "\n",
       "                              Store Name                Address        City  \\\n",
       "6761203                  Bottle Boutique          705 E. SECOND   INDIANOLA   \n",
       "5368674    Ingersoll Liquor and Beverage     3500 INGERSOLL AVE  DES MOINES   \n",
       "3846964     Southside Tobacco and Liquor         2424 SW 9TH ST  DES MOINES   \n",
       "2255583                 Spirits / Grimes  109 EAST 1ST ST STE B      GRIMES   \n",
       "5144101  Hy-Vee Food Store / Fleur / DSM       4605 FLEUR DRIVE  DES MOINES   \n",
       "\n",
       "        Zip Code                                     Store Location  \\\n",
       "6761203    50125  705 E. SECOND\\nINDIANOLA 50125\\n(41.358191, -9...   \n",
       "5368674    50312  3500 INGERSOLL AVE\\nDES MOINES 50312\\n(41.5863...   \n",
       "3846964    50315  2424 SW 9TH ST\\nDES MOINES 50315\\n(41.56373, -...   \n",
       "2255583    50111  109 EAST 1ST ST STE B\\nGRIMES 50111\\n(41.6884,...   \n",
       "5144101    50321  4605 FLEUR DRIVE\\nDES MOINES 50321\\n(41.542816...   \n",
       "\n",
       "         County Number  County  ...  Item Number  \\\n",
       "6761203           91.0  Warren  ...        15940   \n",
       "5368674           77.0    Polk  ...        42166   \n",
       "3846964           77.0    Polk  ...        45887   \n",
       "2255583           77.0    Polk  ...        87510   \n",
       "5144101           77.0    Polk  ...         4796   \n",
       "\n",
       "                     Item Description  Pack Bottle Volume (ml)  \\\n",
       "6761203    Tullamore Dew Irish Whisky    12                750   \n",
       "5368674     Myers's Rum Original Dark    12                750   \n",
       "3846964  Sailor Jerry Spiced Navy Rum    12               1000   \n",
       "2255583           1800 Silver Tequila    12                750   \n",
       "5144101             Cutty Sark Scotch    12                750   \n",
       "\n",
       "         State Bottle Cost State Bottle Retail  Bottles Sold  Sale (Dollars)  \\\n",
       "6761203             $13.60              $20.39             1          $20.39   \n",
       "5368674             $10.00              $14.99             3          $44.97   \n",
       "3846964             $11.20              $16.79             1          $16.79   \n",
       "2255583             $14.50              $21.74             1          $21.74   \n",
       "5144101             $11.90              $17.85             4          $71.40   \n",
       "\n",
       "        Volume Sold (Liters) Volume Sold (Gallons)  \n",
       "6761203                 0.75                  0.20  \n",
       "5368674                 2.25                  0.59  \n",
       "3846964                 1.00                  0.26  \n",
       "2255583                 0.75                  0.20  \n",
       "5144101                 3.00                  0.79  \n",
       "\n",
       "[5 rows x 24 columns]"
      ]
     },
     "execution_count": 10,
     "metadata": {},
     "output_type": "execute_result"
    }
   ],
   "source": [
    "cleaned_data.head()"
   ]
  },
  {
   "cell_type": "markdown",
   "id": "voluntary-cambridge",
   "metadata": {},
   "source": [
    "## Working on correct number of counties and filling in NaN values"
   ]
  },
  {
   "cell_type": "code",
   "execution_count": 12,
   "id": "urban-carolina",
   "metadata": {
    "scrolled": true
   },
   "outputs": [],
   "source": [
    "cleaned_data.loc[:,('County')]=cleaned_data['County'].str.lower() #lower county and city names as to make aggregating over them more easy\n",
    "cleaned_data.loc[:,('City')]=cleaned_data['City'].str.lower()"
   ]
  },
  {
   "cell_type": "code",
   "execution_count": 13,
   "id": "advised-development",
   "metadata": {},
   "outputs": [
    {
     "name": "stdout",
     "output_type": "stream",
     "text": [
      "False\n"
     ]
    }
   ],
   "source": [
    "#does the number of unique county names in our dataset equal the numer of counties in Iowa?\n",
    "print(99==cleaned_data['County'].nunique())"
   ]
  },
  {
   "cell_type": "code",
   "execution_count": 14,
   "id": "decimal-watson",
   "metadata": {},
   "outputs": [
    {
     "data": {
      "text/plain": [
       "103"
      ]
     },
     "execution_count": 14,
     "metadata": {},
     "output_type": "execute_result"
    }
   ],
   "source": [
    "#How many unique county names are we getting? \n",
    "cleaned_data['County'].nunique()"
   ]
  },
  {
   "cell_type": "code",
   "execution_count": 15,
   "id": "random-breath",
   "metadata": {
    "scrolled": true
   },
   "outputs": [
    {
     "data": {
      "text/plain": [
       "array(['warren', 'polk', 'black hawk', 'johnson', 'crawford', 'linn',\n",
       "       'clinton', 'carroll', 'jasper', 'dallas', 'cedar', 'marion',\n",
       "       'jones', 'lucas', 'wayne', 'cerro gordo', 'iowa', 'decatur',\n",
       "       'hamilton', 'greene', 'clarke', 'boone', 'allamakee', 'ida',\n",
       "       'pottawattamie', 'lee', 'henry', 'des moines', 'grundy',\n",
       "       'van buren', 'cass', 'muscatine', 'wapello', 'scott', 'delaware',\n",
       "       'harrison', 'dubuque', 'jackson', 'buchanan', 'shelby',\n",
       "       'washington', 'hardin', 'jefferson', 'franklin', 'louisa',\n",
       "       'audubon', 'story', 'butler', 'clayton', 'adair', 'worth',\n",
       "       'keokuk', 'guthrie', 'benton', 'fayette', 'webster', 'winnebago',\n",
       "       'palo alto', 'poweshiek', 'clay', 'dickinson', 'plymouth',\n",
       "       'marshall', 'howard', 'cherokee', 'sioux', 'osceola', 'montgomery',\n",
       "       'mitchell', 'lyon', 'union', 'wright', \"o'brien\", 'floyd', 'tama',\n",
       "       'pocahontas', 'mills', 'page', 'bremer', 'emmet', 'humboldt',\n",
       "       'chickasaw', 'madison', 'taylor', nan, 'adams', 'ringgold',\n",
       "       'kossuth', 'woodbury', 'sac', 'monona', 'mahaska', 'buena vista',\n",
       "       'appanoose', 'davis', 'hancock', 'calhoun', 'monroe', 'winneshiek',\n",
       "       'fremont', 'obrien', 'pottawatta', 'buena vist', 'cerro gord'],\n",
       "      dtype=object)"
      ]
     },
     "execution_count": 15,
     "metadata": {},
     "output_type": "execute_result"
    }
   ],
   "source": [
    "cleaned_data['County'].unique()\n",
    "#there are some duplicates: e.g. buena vista and buena vist\n",
    "#also o'brien and obrien\n",
    "#also another entry pottawatta should be pottawattamie\n",
    "#also NaN counties??\n",
    "#PROBLEM: more counties in dataset than there are in Iowa"
   ]
  },
  {
   "cell_type": "code",
   "execution_count": 17,
   "id": "educational-speed",
   "metadata": {},
   "outputs": [],
   "source": [
    "#this block of code makes changes to spelling differences of counties\n",
    "cleaned_data.loc[(cleaned_data['County']=='obrien'),'County']=\"o'brien\"\n",
    "cleaned_data.loc[(cleaned_data['County']=='pottawatta'),'County']=\"pottawattamie\"\n",
    "cleaned_data.loc[(cleaned_data['County']=='buena vist'),'County']=\"buena vista\"\n",
    "cleaned_data.loc[(cleaned_data['County']=='cerro gord'),'County']=\"cerro gordo\""
   ]
  },
  {
   "cell_type": "code",
   "execution_count": 18,
   "id": "according-mistress",
   "metadata": {},
   "outputs": [
    {
     "data": {
      "text/plain": [
       "99"
      ]
     },
     "execution_count": 18,
     "metadata": {},
     "output_type": "execute_result"
    }
   ],
   "source": [
    "cleaned_data['County'].nunique() #number of unique county names in this column"
   ]
  },
  {
   "cell_type": "code",
   "execution_count": 19,
   "id": "coastal-textbook",
   "metadata": {},
   "outputs": [
    {
     "name": "stdout",
     "output_type": "stream",
     "text": [
      "True\n"
     ]
    }
   ],
   "source": [
    "#does the number of unique county names in our dataset equal the numer of counties in Iowa?\n",
    "#note that this doesn't account for 'NaN' values for counties\n",
    "print(99==cleaned_data['County'].nunique())"
   ]
  },
  {
   "cell_type": "markdown",
   "id": "sonic-patent",
   "metadata": {},
   "source": [
    "### Changing out NaN county Values to the correct county name"
   ]
  },
  {
   "cell_type": "code",
   "execution_count": 20,
   "id": "tired-radical",
   "metadata": {
    "scrolled": false
   },
   "outputs": [
    {
     "data": {
      "text/plain": [
       "72919"
      ]
     },
     "execution_count": 20,
     "metadata": {},
     "output_type": "execute_result"
    }
   ],
   "source": [
    "len(cleaned_data[cleaned_data['County'].isna()]) #this is the number of rows with no county info"
   ]
  },
  {
   "cell_type": "code",
   "execution_count": 21,
   "id": "concerned-hierarchy",
   "metadata": {},
   "outputs": [
    {
     "name": "stdout",
     "output_type": "stream",
     "text": [
      "0.8634315956119739% of the observations have null county vlaues\n"
     ]
    }
   ],
   "source": [
    "#what percent of our observations have null county values?\n",
    "P=len(cleaned_data[cleaned_data['County'].isna()])/(len(cleaned_data[~cleaned_data['County'].isna()])+len(cleaned_data[cleaned_data['County'].isna()]))*100\n",
    "print('{}% of the observations have null county vlaues'.format(P))"
   ]
  },
  {
   "cell_type": "code",
   "execution_count": 22,
   "id": "homeless-glucose",
   "metadata": {
    "scrolled": true
   },
   "outputs": [
    {
     "data": {
      "text/plain": [
       "Store Name\n",
       "Hy-Vee Food and Drug #6 / Cedar Rapids      362\n",
       "New Star Liquor & Tobacco  / Ft Dodg        195\n",
       "Hy-Vee Wine and Spirits / Estherville       187\n",
       "Gameday Liquor                              127\n",
       "Hy-Vee Drugstore / Council Bluffs           119\n",
       "Liquor and Grocery Depot                     95\n",
       "Casey's General Store #1548 / Ankeny         95\n",
       "U S Gas                                      77\n",
       "Kum & Go #502 / Iowa City                    67\n",
       "Casey's General Store # 3508/ Marsha         66\n",
       "Mmdg Spirits / Ames                          63\n",
       "Casey's General Store #3075 / Ankeny         62\n",
       "Kum & Go #4098 / Windsor Heights             62\n",
       "Indy 66 West #929 / Indianola                51\n",
       "North American Spirits                       50\n",
       "Kum & Go #438 / Muscatine                    46\n",
       "D And S Grocery                              43\n",
       "Jeff's Market / Wilton                       42\n",
       "Point Liquor & Tobacco                       38\n",
       "Kum & Go # 119/ Northwood                    36\n",
       "Kum & Go #201 / Coralville                   36\n",
       "Fareway Stores #151 / Cedar Rapids           34\n",
       "Kum & Go #521  /  Coralville                 32\n",
       "Kum & Go #540 / Waukee                       29\n",
       "The Secret Cellar                            26\n",
       "AV Superstop                                 25\n",
       "Express Mart                                 23\n",
       "Fareway Stores #703 / Humbolt                21\n",
       "Casey's General Store # 2417/ Newton         21\n",
       "Fareway Store # 167/Johnston                 20\n",
       "Casey's General Store # 2560                 19\n",
       "Kum & Go #202 / 4th St Waukee                18\n",
       "Casey's General Store #1680 / Adel           18\n",
       "Casey's General Store #1567 / Anita          18\n",
       "Casey's General Store #1365 / Paullina       17\n",
       "Casey's General Store #1125 / Humest         16\n",
       "Fas Mart # 5150/ Cedar Rapids                15\n",
       "KUM & GO #83 / CASEY                         14\n",
       "Casey's General Store #1617 / Jefferson      13\n",
       "Casey's General Store #1493 / Van Meter      13\n",
       "Casey's General Store # 2598/ Pella          12\n",
       "Kum & Go #768 / Hospers                      11\n",
       "River Mart                                   10\n",
       "Casey's General Store # 2783/ Urband          9\n",
       "Casey's General Store #1503 / Tabor           9\n",
       "Kum & Go # 532/ West DSM                      7\n",
       "Casey's General Store #1684 / Emmetsburg      6\n",
       "dtype: int64"
      ]
     },
     "execution_count": 22,
     "metadata": {},
     "output_type": "execute_result"
    }
   ],
   "source": [
    "#looked at the Store names for entries with null county values\n",
    "cleaned_data[cleaned_data['County'].isna() & cleaned_data['City'].isna()].value_counts(subset='Store Name')"
   ]
  },
  {
   "cell_type": "code",
   "execution_count": 23,
   "id": "owned-atmosphere",
   "metadata": {},
   "outputs": [],
   "source": [
    "#had to look at entries where the county was entered and use that county name for the missing county names\n",
    "#This is admitedly messy. If I had more time I would try to do a loop\n",
    "cleaned_data.loc[(cleaned_data['Store Name']=='Fareway Stores #151 / Cedar Rapids'),'County']=\"linn\"\n",
    "cleaned_data.loc[(cleaned_data['Store Name']=='Kum & Go #521  /  Coralville'),'County']=\"johnson\"\n",
    "cleaned_data.loc[(cleaned_data['Store Name']=='Hy-Vee Food and Drug #6 / Cedar Rapids'),'County']=\"linn\"\n",
    "cleaned_data.loc[(cleaned_data['Store Name']=='New Star Liquor & Tobacco  / Ft Dodg'),'County']=\"webster\"\n",
    "cleaned_data.loc[(cleaned_data['Store Name']=='Hy-Vee Wine and Spirits / Estherville'),'County']=\"emmet\"\n",
    "cleaned_data.loc[(cleaned_data['Store Name']=='Gameday Liquor'),'County']=\"mills\"\n",
    "cleaned_data.loc[(cleaned_data['Store Name']=='Hy-Vee Drugstore / Council Bluffs'),'County']=\"pottawattamie\"\n",
    "cleaned_data.loc[(cleaned_data['Store Name']=='Liquor and Grocery Depot'),'County']=\"marshall\"\n",
    "cleaned_data.loc[(cleaned_data['Store Name']==\"Casey's General Store #1548 / Ankeny\"),'County']=\"polk\"\n",
    "cleaned_data.loc[(cleaned_data['Store Name']==\"U S Gas\"),'County']=\"polk\"\n",
    "cleaned_data.loc[(cleaned_data['Store Name']==\"Kum & Go #502 / Iowa City\"),'County']=\"johnson\"\n",
    "cleaned_data.loc[(cleaned_data['Store Name']==\"Casey's General Store # 3508/ Marsha\"),'County']=\"marshall\"\n",
    "cleaned_data.loc[(cleaned_data['Store Name']==\"Mmdg Spirits / Ames\"),'County']=\"story\"\n",
    "cleaned_data.loc[(cleaned_data['Store Name']==\"Casey's General Store #3075 / Ankeny\"),'County']=\"polk\"\n",
    "cleaned_data.loc[(cleaned_data['Store Name']==\"Kum & Go #4098 / Windsor Heights\"),'County']=\"polk\"\n",
    "cleaned_data.loc[(cleaned_data['Store Name']==\"Indy 66 West #929 / Indianola\"),'County']=\"warren\"\n",
    "cleaned_data.loc[(cleaned_data['Store Name']==\"North American Spirits\"),'County']=\"polk\"\n",
    "cleaned_data.loc[(cleaned_data['Store Name']==\"Kum & Go #438 / Muscatine\"),'County']=\"muscatine\"\n",
    "cleaned_data.loc[(cleaned_data['Store Name']==\"D And S Grocery\"),'County']=\"marion\"\n",
    "cleaned_data.loc[(cleaned_data['Store Name']==\"Jeff's Market / Wilton\"),'County']=\"muscatine\"\n",
    "cleaned_data.loc[(cleaned_data['Store Name']==\"Point Liquor & Tobacco\"),'County']=\"linn\"\n",
    "cleaned_data.loc[(cleaned_data['Store Name']==\"Kum & Go # 119/ Northwood\"),'County']=\"worth\"\n",
    "cleaned_data.loc[(cleaned_data['Store Name']==\"Kum & Go #201 / Coralville\"),'County']=\"johnson\"\n",
    "cleaned_data.loc[(cleaned_data['Store Name']==\"Kum & Go #540 / Waukee\"),'County']=\"dallas\"\n",
    "cleaned_data.loc[(cleaned_data['Store Name']==\"The Secret Cellar\"),'County']=\"johnson\"\n",
    "cleaned_data.loc[(cleaned_data['Store Name']==\"AV Superstop\"),'County']=\"polk\"\n",
    "cleaned_data.loc[(cleaned_data['Store Name']==\"Express Mart\"),'County']=\"muscatine\"\n",
    "cleaned_data.loc[(cleaned_data['Store Name']==\"Fareway Stores #703 / Humbolt\"),'County']=\"humboldt\"\n",
    "cleaned_data.loc[(cleaned_data['Store Name']==\"Casey's General Store # 2417/ Newton\"),'County']=\"jasper\"\n",
    "cleaned_data.loc[(cleaned_data['Store Name']==\"Fareway Store # 167/Johnston\"),'County']=\"polk\"\n",
    "cleaned_data.loc[(cleaned_data['Store Name']==\"Casey's General Store # 2560\"),'County']=\"story\"\n",
    "cleaned_data.loc[(cleaned_data['Store Name']==\"Kum & Go #202 / 4th St Waukee\"),'County']=\"dallas\"\n",
    "cleaned_data.loc[(cleaned_data['Store Name']==\"Casey's General Store #1680 / Adel\"),'County']=\"dallas\"\n",
    "cleaned_data.loc[(cleaned_data['Store Name']==\"Casey's General Store #1567 / Anita\"),'County']=\"cass\"\n",
    "cleaned_data.loc[(cleaned_data['Store Name']==\"Casey's General Store #1365 / Paullina\"),'County']=\"o'brien\"\n",
    "cleaned_data.loc[(cleaned_data['Store Name']==\"Casey's General Store #1125 / Humest\"),'County']=\"wayne\"\n",
    "cleaned_data.loc[(cleaned_data['Store Name']==\"Fas Mart # 5150/ Cedar Rapids\"),'County']=\"linn\"\n",
    "cleaned_data.loc[(cleaned_data['Store Name']==\"KUM & GO #83 / CASEY\"),'County']=\"guthrie\"\n",
    "cleaned_data.loc[(cleaned_data['Store Name']==\"Casey's General Store #1617 / Jefferson\"),'County']=\"greene\"\n",
    "cleaned_data.loc[(cleaned_data['Store Name']==\"Casey's General Store #1493 / Van Meter\"),'County']=\"dallas\"\n",
    "cleaned_data.loc[(cleaned_data['Store Name']==\"Casey's General Store # 2598/ Pella\"),'County']=\"marion\"\n",
    "cleaned_data.loc[(cleaned_data['Store Name']==\"Kum & Go #768 / Hospers\"),'County']=\"sioux\"\n",
    "cleaned_data.loc[(cleaned_data['Store Name']==\"River Mart\"),'County']=\"des moines\"\n",
    "cleaned_data.loc[(cleaned_data['Store Name']==\"Casey's General Store # 2783/ Urband\"),'County']=\"polk\"\n",
    "cleaned_data.loc[(cleaned_data['Store Name']==\"Casey's General Store #1503 / Tabor\"),'County']=\"fremont\"\n",
    "cleaned_data.loc[(cleaned_data['Store Name']==\"Kum & Go # 532/ West DSM\"),'County']=\"polk\"\n",
    "cleaned_data.loc[(cleaned_data['Store Name']==\"Casey's General Store #1684 / Emmetsburg\"),'County']=\"palo alto\""
   ]
  },
  {
   "cell_type": "code",
   "execution_count": 24,
   "id": "closing-associate",
   "metadata": {},
   "outputs": [
    {
     "data": {
      "text/plain": [
       "8445255"
      ]
     },
     "execution_count": 24,
     "metadata": {},
     "output_type": "execute_result"
    }
   ],
   "source": [
    "len(cleaned_data)"
   ]
  },
  {
   "cell_type": "code",
   "execution_count": 25,
   "id": "american-arlington",
   "metadata": {},
   "outputs": [
    {
     "data": {
      "text/plain": [
       "99"
      ]
     },
     "execution_count": 25,
     "metadata": {},
     "output_type": "execute_result"
    }
   ],
   "source": [
    "#do the number of unique county names still match the actual number of Iowa counties (99?)\n",
    "cleaned_data['County'].nunique() #we still have one more county name than there are Iowa counties, this is because of NaN counties"
   ]
  },
  {
   "cell_type": "code",
   "execution_count": 26,
   "id": "median-recognition",
   "metadata": {
    "scrolled": true
   },
   "outputs": [
    {
     "data": {
      "text/plain": [
       "0"
      ]
     },
     "execution_count": 26,
     "metadata": {},
     "output_type": "execute_result"
    }
   ],
   "source": [
    "#THIS LOOKS FOR IF THERE ARE ANY NULL VALUES FOR COUNTY\n",
    "len(cleaned_data[cleaned_data['County'].isna() & cleaned_data['City'].isna()].value_counts(subset='Store Name'))"
   ]
  },
  {
   "cell_type": "markdown",
   "id": "still-amendment",
   "metadata": {},
   "source": [
    "### Remove all undesired columns"
   ]
  },
  {
   "cell_type": "code",
   "execution_count": 27,
   "id": "composite-validation",
   "metadata": {},
   "outputs": [],
   "source": [
    "cleaned_data = cleaned_data.drop(columns=['Invoice/Item Number', 'Store Number', 'Store Name', 'Address', 'City', \n",
    "                                          'Store Location', 'Category', 'Category Name', 'Vendor Number', 'Vendor Name', \n",
    "                                         'Item Number', 'Item Description', 'Pack', 'Bottle Volume (ml)', 'State Bottle Cost', \n",
    "                                         'State Bottle Retail', 'Bottles Sold'])"
   ]
  },
  {
   "cell_type": "markdown",
   "id": "average-introduction",
   "metadata": {},
   "source": [
    "### Some counties are in uppercase. We must normalize all county text to lowercase"
   ]
  },
  {
   "cell_type": "code",
   "execution_count": 28,
   "id": "german-commissioner",
   "metadata": {},
   "outputs": [],
   "source": [
    "cleaned_data['County'] = cleaned_data['County'].str.lower()"
   ]
  },
  {
   "cell_type": "code",
   "execution_count": 29,
   "id": "unable-begin",
   "metadata": {},
   "outputs": [
    {
     "data": {
      "text/html": [
       "<div>\n",
       "<style scoped>\n",
       "    .dataframe tbody tr th:only-of-type {\n",
       "        vertical-align: middle;\n",
       "    }\n",
       "\n",
       "    .dataframe tbody tr th {\n",
       "        vertical-align: top;\n",
       "    }\n",
       "\n",
       "    .dataframe thead th {\n",
       "        text-align: right;\n",
       "    }\n",
       "</style>\n",
       "<table border=\"1\" class=\"dataframe\">\n",
       "  <thead>\n",
       "    <tr style=\"text-align: right;\">\n",
       "      <th></th>\n",
       "      <th>Date</th>\n",
       "      <th>Zip Code</th>\n",
       "      <th>County Number</th>\n",
       "      <th>County</th>\n",
       "      <th>Sale (Dollars)</th>\n",
       "      <th>Volume Sold (Liters)</th>\n",
       "      <th>Volume Sold (Gallons)</th>\n",
       "    </tr>\n",
       "  </thead>\n",
       "  <tbody>\n",
       "    <tr>\n",
       "      <th>6761203</th>\n",
       "      <td>2014-01-02</td>\n",
       "      <td>50125</td>\n",
       "      <td>91.0</td>\n",
       "      <td>warren</td>\n",
       "      <td>$20.39</td>\n",
       "      <td>0.75</td>\n",
       "      <td>0.20</td>\n",
       "    </tr>\n",
       "    <tr>\n",
       "      <th>5368674</th>\n",
       "      <td>2014-01-02</td>\n",
       "      <td>50312</td>\n",
       "      <td>77.0</td>\n",
       "      <td>polk</td>\n",
       "      <td>$44.97</td>\n",
       "      <td>2.25</td>\n",
       "      <td>0.59</td>\n",
       "    </tr>\n",
       "    <tr>\n",
       "      <th>3846964</th>\n",
       "      <td>2014-01-02</td>\n",
       "      <td>50315</td>\n",
       "      <td>77.0</td>\n",
       "      <td>polk</td>\n",
       "      <td>$16.79</td>\n",
       "      <td>1.00</td>\n",
       "      <td>0.26</td>\n",
       "    </tr>\n",
       "    <tr>\n",
       "      <th>2255583</th>\n",
       "      <td>2014-01-02</td>\n",
       "      <td>50111</td>\n",
       "      <td>77.0</td>\n",
       "      <td>polk</td>\n",
       "      <td>$21.74</td>\n",
       "      <td>0.75</td>\n",
       "      <td>0.20</td>\n",
       "    </tr>\n",
       "    <tr>\n",
       "      <th>5144101</th>\n",
       "      <td>2014-01-02</td>\n",
       "      <td>50321</td>\n",
       "      <td>77.0</td>\n",
       "      <td>polk</td>\n",
       "      <td>$71.40</td>\n",
       "      <td>3.00</td>\n",
       "      <td>0.79</td>\n",
       "    </tr>\n",
       "  </tbody>\n",
       "</table>\n",
       "</div>"
      ],
      "text/plain": [
       "              Date Zip Code  County Number  County Sale (Dollars)  \\\n",
       "6761203 2014-01-02    50125           91.0  warren         $20.39   \n",
       "5368674 2014-01-02    50312           77.0    polk         $44.97   \n",
       "3846964 2014-01-02    50315           77.0    polk         $16.79   \n",
       "2255583 2014-01-02    50111           77.0    polk         $21.74   \n",
       "5144101 2014-01-02    50321           77.0    polk         $71.40   \n",
       "\n",
       "         Volume Sold (Liters)  Volume Sold (Gallons)  \n",
       "6761203                  0.75                   0.20  \n",
       "5368674                  2.25                   0.59  \n",
       "3846964                  1.00                   0.26  \n",
       "2255583                  0.75                   0.20  \n",
       "5144101                  3.00                   0.79  "
      ]
     },
     "execution_count": 29,
     "metadata": {},
     "output_type": "execute_result"
    }
   ],
   "source": [
    "cleaned_data.head()"
   ]
  },
  {
   "cell_type": "markdown",
   "id": "premier-quantity",
   "metadata": {},
   "source": [
    "### We want to aggregate on both the Sales and Volume columns. First, strip the dollar sign off the \"Sale (Dollars)\" column so we can convert the column values from string to float type"
   ]
  },
  {
   "cell_type": "code",
   "execution_count": 30,
   "id": "material-junior",
   "metadata": {},
   "outputs": [],
   "source": [
    "sales = [x.strip('$') for x in cleaned_data['Sale (Dollars)']] #removes '$' from all entries in this column"
   ]
  },
  {
   "cell_type": "code",
   "execution_count": 31,
   "id": "marine-closing",
   "metadata": {},
   "outputs": [],
   "source": [
    "cleaned_data['Sales (Dollars)'] = sales"
   ]
  },
  {
   "cell_type": "code",
   "execution_count": 32,
   "id": "numerous-algebra",
   "metadata": {},
   "outputs": [],
   "source": [
    "cleaned_data = cleaned_data.drop(columns=['Sale (Dollars)'])"
   ]
  },
  {
   "cell_type": "code",
   "execution_count": 33,
   "id": "healthy-governor",
   "metadata": {},
   "outputs": [],
   "source": [
    "cleaned_data['Sales (Dollars)'] = cleaned_data['Sales (Dollars)'].astype('float') #change data type of this column"
   ]
  },
  {
   "cell_type": "markdown",
   "id": "generous-uniform",
   "metadata": {},
   "source": [
    "### Aggregate total alcohol sales by date by county"
   ]
  },
  {
   "cell_type": "code",
   "execution_count": 34,
   "id": "elect-principle",
   "metadata": {},
   "outputs": [
    {
     "data": {
      "text/html": [
       "<div>\n",
       "<style scoped>\n",
       "    .dataframe tbody tr th:only-of-type {\n",
       "        vertical-align: middle;\n",
       "    }\n",
       "\n",
       "    .dataframe tbody tr th {\n",
       "        vertical-align: top;\n",
       "    }\n",
       "\n",
       "    .dataframe thead th {\n",
       "        text-align: right;\n",
       "    }\n",
       "</style>\n",
       "<table border=\"1\" class=\"dataframe\">\n",
       "  <thead>\n",
       "    <tr style=\"text-align: right;\">\n",
       "      <th></th>\n",
       "      <th>Date</th>\n",
       "      <th>County</th>\n",
       "      <th>Sales (Dollars)</th>\n",
       "    </tr>\n",
       "  </thead>\n",
       "  <tbody>\n",
       "    <tr>\n",
       "      <th>0</th>\n",
       "      <td>2014-01-02</td>\n",
       "      <td>allamakee</td>\n",
       "      <td>505.78</td>\n",
       "    </tr>\n",
       "    <tr>\n",
       "      <th>1</th>\n",
       "      <td>2014-01-02</td>\n",
       "      <td>black hawk</td>\n",
       "      <td>106479.37</td>\n",
       "    </tr>\n",
       "    <tr>\n",
       "      <th>2</th>\n",
       "      <td>2014-01-02</td>\n",
       "      <td>boone</td>\n",
       "      <td>4136.59</td>\n",
       "    </tr>\n",
       "    <tr>\n",
       "      <th>3</th>\n",
       "      <td>2014-01-02</td>\n",
       "      <td>carroll</td>\n",
       "      <td>29607.56</td>\n",
       "    </tr>\n",
       "    <tr>\n",
       "      <th>4</th>\n",
       "      <td>2014-01-02</td>\n",
       "      <td>cedar</td>\n",
       "      <td>4186.41</td>\n",
       "    </tr>\n",
       "    <tr>\n",
       "      <th>...</th>\n",
       "      <td>...</td>\n",
       "      <td>...</td>\n",
       "      <td>...</td>\n",
       "    </tr>\n",
       "    <tr>\n",
       "      <th>30845</th>\n",
       "      <td>2017-10-31</td>\n",
       "      <td>sac</td>\n",
       "      <td>9744.54</td>\n",
       "    </tr>\n",
       "    <tr>\n",
       "      <th>30846</th>\n",
       "      <td>2017-10-31</td>\n",
       "      <td>sioux</td>\n",
       "      <td>20031.95</td>\n",
       "    </tr>\n",
       "    <tr>\n",
       "      <th>30847</th>\n",
       "      <td>2017-10-31</td>\n",
       "      <td>warren</td>\n",
       "      <td>20881.10</td>\n",
       "    </tr>\n",
       "    <tr>\n",
       "      <th>30848</th>\n",
       "      <td>2017-10-31</td>\n",
       "      <td>webster</td>\n",
       "      <td>989.62</td>\n",
       "    </tr>\n",
       "    <tr>\n",
       "      <th>30849</th>\n",
       "      <td>2017-10-31</td>\n",
       "      <td>woodbury</td>\n",
       "      <td>1054.48</td>\n",
       "    </tr>\n",
       "  </tbody>\n",
       "</table>\n",
       "<p>30850 rows × 3 columns</p>\n",
       "</div>"
      ],
      "text/plain": [
       "            Date      County  Sales (Dollars)\n",
       "0     2014-01-02   allamakee           505.78\n",
       "1     2014-01-02  black hawk        106479.37\n",
       "2     2014-01-02       boone          4136.59\n",
       "3     2014-01-02     carroll         29607.56\n",
       "4     2014-01-02       cedar          4186.41\n",
       "...          ...         ...              ...\n",
       "30845 2017-10-31         sac          9744.54\n",
       "30846 2017-10-31       sioux         20031.95\n",
       "30847 2017-10-31      warren         20881.10\n",
       "30848 2017-10-31     webster           989.62\n",
       "30849 2017-10-31    woodbury          1054.48\n",
       "\n",
       "[30850 rows x 3 columns]"
      ]
     },
     "execution_count": 34,
     "metadata": {},
     "output_type": "execute_result"
    }
   ],
   "source": [
    "daily_county_sales = cleaned_data.groupby(['Date','County'])['Sales (Dollars)'].sum()\n",
    "daily_county_sales = daily_county_sales.reset_index()\n",
    "daily_county_sales.to_csv('daily_county_sales.csv',index=False)\n",
    "daily_county_sales"
   ]
  },
  {
   "cell_type": "markdown",
   "id": "historic-frontier",
   "metadata": {},
   "source": [
    "### Aggregate total alcohol volume sold by date by county"
   ]
  },
  {
   "cell_type": "code",
   "execution_count": 35,
   "id": "acute-yesterday",
   "metadata": {},
   "outputs": [
    {
     "data": {
      "text/html": [
       "<div>\n",
       "<style scoped>\n",
       "    .dataframe tbody tr th:only-of-type {\n",
       "        vertical-align: middle;\n",
       "    }\n",
       "\n",
       "    .dataframe tbody tr th {\n",
       "        vertical-align: top;\n",
       "    }\n",
       "\n",
       "    .dataframe thead th {\n",
       "        text-align: right;\n",
       "    }\n",
       "</style>\n",
       "<table border=\"1\" class=\"dataframe\">\n",
       "  <thead>\n",
       "    <tr style=\"text-align: right;\">\n",
       "      <th></th>\n",
       "      <th>Date</th>\n",
       "      <th>County</th>\n",
       "      <th>Volume Sold (Liters)</th>\n",
       "    </tr>\n",
       "  </thead>\n",
       "  <tbody>\n",
       "    <tr>\n",
       "      <th>0</th>\n",
       "      <td>2014-01-02</td>\n",
       "      <td>allamakee</td>\n",
       "      <td>38.75</td>\n",
       "    </tr>\n",
       "    <tr>\n",
       "      <th>1</th>\n",
       "      <td>2014-01-02</td>\n",
       "      <td>black hawk</td>\n",
       "      <td>7525.11</td>\n",
       "    </tr>\n",
       "    <tr>\n",
       "      <th>2</th>\n",
       "      <td>2014-01-02</td>\n",
       "      <td>boone</td>\n",
       "      <td>344.75</td>\n",
       "    </tr>\n",
       "    <tr>\n",
       "      <th>3</th>\n",
       "      <td>2014-01-02</td>\n",
       "      <td>carroll</td>\n",
       "      <td>2047.84</td>\n",
       "    </tr>\n",
       "    <tr>\n",
       "      <th>4</th>\n",
       "      <td>2014-01-02</td>\n",
       "      <td>cedar</td>\n",
       "      <td>289.57</td>\n",
       "    </tr>\n",
       "    <tr>\n",
       "      <th>...</th>\n",
       "      <td>...</td>\n",
       "      <td>...</td>\n",
       "      <td>...</td>\n",
       "    </tr>\n",
       "    <tr>\n",
       "      <th>30845</th>\n",
       "      <td>2017-10-31</td>\n",
       "      <td>sac</td>\n",
       "      <td>306.54</td>\n",
       "    </tr>\n",
       "    <tr>\n",
       "      <th>30846</th>\n",
       "      <td>2017-10-31</td>\n",
       "      <td>sioux</td>\n",
       "      <td>501.20</td>\n",
       "    </tr>\n",
       "    <tr>\n",
       "      <th>30847</th>\n",
       "      <td>2017-10-31</td>\n",
       "      <td>warren</td>\n",
       "      <td>414.57</td>\n",
       "    </tr>\n",
       "    <tr>\n",
       "      <th>30848</th>\n",
       "      <td>2017-10-31</td>\n",
       "      <td>webster</td>\n",
       "      <td>55.50</td>\n",
       "    </tr>\n",
       "    <tr>\n",
       "      <th>30849</th>\n",
       "      <td>2017-10-31</td>\n",
       "      <td>woodbury</td>\n",
       "      <td>10.63</td>\n",
       "    </tr>\n",
       "  </tbody>\n",
       "</table>\n",
       "<p>30850 rows × 3 columns</p>\n",
       "</div>"
      ],
      "text/plain": [
       "            Date      County  Volume Sold (Liters)\n",
       "0     2014-01-02   allamakee                 38.75\n",
       "1     2014-01-02  black hawk               7525.11\n",
       "2     2014-01-02       boone                344.75\n",
       "3     2014-01-02     carroll               2047.84\n",
       "4     2014-01-02       cedar                289.57\n",
       "...          ...         ...                   ...\n",
       "30845 2017-10-31         sac                306.54\n",
       "30846 2017-10-31       sioux                501.20\n",
       "30847 2017-10-31      warren                414.57\n",
       "30848 2017-10-31     webster                 55.50\n",
       "30849 2017-10-31    woodbury                 10.63\n",
       "\n",
       "[30850 rows x 3 columns]"
      ]
     },
     "execution_count": 35,
     "metadata": {},
     "output_type": "execute_result"
    }
   ],
   "source": [
    "daily_county_volume_l = cleaned_data.groupby(['Date','County'])['Volume Sold (Liters)'].sum()\n",
    "daily_county_volume_l = daily_county_volume_l.reset_index()\n",
    "daily_county_volume_l.to_csv('daily_county_volume_l.csv',index=False)\n",
    "daily_county_volume_l"
   ]
  },
  {
   "cell_type": "markdown",
   "id": "catholic-finland",
   "metadata": {},
   "source": [
    "### Aggregate total alcohol sales by month by county"
   ]
  },
  {
   "cell_type": "code",
   "execution_count": 36,
   "id": "driven-faculty",
   "metadata": {},
   "outputs": [
    {
     "data": {
      "text/html": [
       "<div>\n",
       "<style scoped>\n",
       "    .dataframe tbody tr th:only-of-type {\n",
       "        vertical-align: middle;\n",
       "    }\n",
       "\n",
       "    .dataframe tbody tr th {\n",
       "        vertical-align: top;\n",
       "    }\n",
       "\n",
       "    .dataframe thead th {\n",
       "        text-align: right;\n",
       "    }\n",
       "</style>\n",
       "<table border=\"1\" class=\"dataframe\">\n",
       "  <thead>\n",
       "    <tr style=\"text-align: right;\">\n",
       "      <th></th>\n",
       "      <th>Date</th>\n",
       "      <th>County</th>\n",
       "      <th>Sales (Dollars)</th>\n",
       "    </tr>\n",
       "  </thead>\n",
       "  <tbody>\n",
       "    <tr>\n",
       "      <th>0</th>\n",
       "      <td>2014-01-01</td>\n",
       "      <td>adair</td>\n",
       "      <td>29286.20</td>\n",
       "    </tr>\n",
       "    <tr>\n",
       "      <th>1</th>\n",
       "      <td>2014-01-01</td>\n",
       "      <td>adams</td>\n",
       "      <td>6631.54</td>\n",
       "    </tr>\n",
       "    <tr>\n",
       "      <th>2</th>\n",
       "      <td>2014-01-01</td>\n",
       "      <td>allamakee</td>\n",
       "      <td>47324.47</td>\n",
       "    </tr>\n",
       "    <tr>\n",
       "      <th>3</th>\n",
       "      <td>2014-01-01</td>\n",
       "      <td>appanoose</td>\n",
       "      <td>71855.44</td>\n",
       "    </tr>\n",
       "    <tr>\n",
       "      <th>4</th>\n",
       "      <td>2014-01-01</td>\n",
       "      <td>audubon</td>\n",
       "      <td>11627.08</td>\n",
       "    </tr>\n",
       "    <tr>\n",
       "      <th>...</th>\n",
       "      <td>...</td>\n",
       "      <td>...</td>\n",
       "      <td>...</td>\n",
       "    </tr>\n",
       "    <tr>\n",
       "      <th>4541</th>\n",
       "      <td>2017-10-01</td>\n",
       "      <td>winnebago</td>\n",
       "      <td>43997.89</td>\n",
       "    </tr>\n",
       "    <tr>\n",
       "      <th>4542</th>\n",
       "      <td>2017-10-01</td>\n",
       "      <td>winneshiek</td>\n",
       "      <td>85934.71</td>\n",
       "    </tr>\n",
       "    <tr>\n",
       "      <th>4543</th>\n",
       "      <td>2017-10-01</td>\n",
       "      <td>woodbury</td>\n",
       "      <td>533066.44</td>\n",
       "    </tr>\n",
       "    <tr>\n",
       "      <th>4544</th>\n",
       "      <td>2017-10-01</td>\n",
       "      <td>worth</td>\n",
       "      <td>19501.38</td>\n",
       "    </tr>\n",
       "    <tr>\n",
       "      <th>4545</th>\n",
       "      <td>2017-10-01</td>\n",
       "      <td>wright</td>\n",
       "      <td>43305.26</td>\n",
       "    </tr>\n",
       "  </tbody>\n",
       "</table>\n",
       "<p>4546 rows × 3 columns</p>\n",
       "</div>"
      ],
      "text/plain": [
       "           Date      County  Sales (Dollars)\n",
       "0    2014-01-01       adair         29286.20\n",
       "1    2014-01-01       adams          6631.54\n",
       "2    2014-01-01   allamakee         47324.47\n",
       "3    2014-01-01   appanoose         71855.44\n",
       "4    2014-01-01     audubon         11627.08\n",
       "...         ...         ...              ...\n",
       "4541 2017-10-01   winnebago         43997.89\n",
       "4542 2017-10-01  winneshiek         85934.71\n",
       "4543 2017-10-01    woodbury        533066.44\n",
       "4544 2017-10-01       worth         19501.38\n",
       "4545 2017-10-01      wright         43305.26\n",
       "\n",
       "[4546 rows x 3 columns]"
      ]
     },
     "execution_count": 36,
     "metadata": {},
     "output_type": "execute_result"
    }
   ],
   "source": [
    "monthly_county_sales = (cleaned_data.groupby([pd.Grouper(key='Date', freq='MS'), 'County'])['Sales (Dollars)'].sum())\n",
    "monthly_county_sales = monthly_county_sales.reset_index()\n",
    "monthly_county_sales.to_csv('monthly_county_sales.csv',index=False)\n",
    "monthly_county_sales"
   ]
  },
  {
   "cell_type": "markdown",
   "id": "theoretical-reality",
   "metadata": {},
   "source": [
    "### Aggregate total alcohol volume sold by month by county"
   ]
  },
  {
   "cell_type": "code",
   "execution_count": 37,
   "id": "mineral-alpha",
   "metadata": {},
   "outputs": [
    {
     "data": {
      "text/html": [
       "<div>\n",
       "<style scoped>\n",
       "    .dataframe tbody tr th:only-of-type {\n",
       "        vertical-align: middle;\n",
       "    }\n",
       "\n",
       "    .dataframe tbody tr th {\n",
       "        vertical-align: top;\n",
       "    }\n",
       "\n",
       "    .dataframe thead th {\n",
       "        text-align: right;\n",
       "    }\n",
       "</style>\n",
       "<table border=\"1\" class=\"dataframe\">\n",
       "  <thead>\n",
       "    <tr style=\"text-align: right;\">\n",
       "      <th></th>\n",
       "      <th>Date</th>\n",
       "      <th>County</th>\n",
       "      <th>Volume Sold (Liters)</th>\n",
       "    </tr>\n",
       "  </thead>\n",
       "  <tbody>\n",
       "    <tr>\n",
       "      <th>0</th>\n",
       "      <td>2014-01-01</td>\n",
       "      <td>adair</td>\n",
       "      <td>2401.90</td>\n",
       "    </tr>\n",
       "    <tr>\n",
       "      <th>1</th>\n",
       "      <td>2014-01-01</td>\n",
       "      <td>adams</td>\n",
       "      <td>498.91</td>\n",
       "    </tr>\n",
       "    <tr>\n",
       "      <th>2</th>\n",
       "      <td>2014-01-01</td>\n",
       "      <td>allamakee</td>\n",
       "      <td>3923.81</td>\n",
       "    </tr>\n",
       "    <tr>\n",
       "      <th>3</th>\n",
       "      <td>2014-01-01</td>\n",
       "      <td>appanoose</td>\n",
       "      <td>6082.76</td>\n",
       "    </tr>\n",
       "    <tr>\n",
       "      <th>4</th>\n",
       "      <td>2014-01-01</td>\n",
       "      <td>audubon</td>\n",
       "      <td>1018.00</td>\n",
       "    </tr>\n",
       "    <tr>\n",
       "      <th>...</th>\n",
       "      <td>...</td>\n",
       "      <td>...</td>\n",
       "      <td>...</td>\n",
       "    </tr>\n",
       "    <tr>\n",
       "      <th>4541</th>\n",
       "      <td>2017-10-01</td>\n",
       "      <td>winnebago</td>\n",
       "      <td>813.46</td>\n",
       "    </tr>\n",
       "    <tr>\n",
       "      <th>4542</th>\n",
       "      <td>2017-10-01</td>\n",
       "      <td>winneshiek</td>\n",
       "      <td>1594.18</td>\n",
       "    </tr>\n",
       "    <tr>\n",
       "      <th>4543</th>\n",
       "      <td>2017-10-01</td>\n",
       "      <td>woodbury</td>\n",
       "      <td>10634.18</td>\n",
       "    </tr>\n",
       "    <tr>\n",
       "      <th>4544</th>\n",
       "      <td>2017-10-01</td>\n",
       "      <td>worth</td>\n",
       "      <td>589.33</td>\n",
       "    </tr>\n",
       "    <tr>\n",
       "      <th>4545</th>\n",
       "      <td>2017-10-01</td>\n",
       "      <td>wright</td>\n",
       "      <td>1167.53</td>\n",
       "    </tr>\n",
       "  </tbody>\n",
       "</table>\n",
       "<p>4546 rows × 3 columns</p>\n",
       "</div>"
      ],
      "text/plain": [
       "           Date      County  Volume Sold (Liters)\n",
       "0    2014-01-01       adair               2401.90\n",
       "1    2014-01-01       adams                498.91\n",
       "2    2014-01-01   allamakee               3923.81\n",
       "3    2014-01-01   appanoose               6082.76\n",
       "4    2014-01-01     audubon               1018.00\n",
       "...         ...         ...                   ...\n",
       "4541 2017-10-01   winnebago                813.46\n",
       "4542 2017-10-01  winneshiek               1594.18\n",
       "4543 2017-10-01    woodbury              10634.18\n",
       "4544 2017-10-01       worth                589.33\n",
       "4545 2017-10-01      wright               1167.53\n",
       "\n",
       "[4546 rows x 3 columns]"
      ]
     },
     "execution_count": 37,
     "metadata": {},
     "output_type": "execute_result"
    }
   ],
   "source": [
    "monthly_county_volume_l = (cleaned_data.groupby([pd.Grouper(key='Date', freq='MS'), 'County'])['Volume Sold (Liters)'].sum())\n",
    "monthly_county_volume_l = monthly_county_volume_l.reset_index()\n",
    "monthly_county_volume_l.to_csv('monthly_county_volume_l.csv',index=False)\n",
    "monthly_county_volume_l"
   ]
  },
  {
   "cell_type": "code",
   "execution_count": null,
   "id": "creative-convergence",
   "metadata": {},
   "outputs": [],
   "source": []
  }
 ],
 "metadata": {
  "kernelspec": {
   "display_name": "Python 3",
   "language": "python",
   "name": "python3"
  },
  "language_info": {
   "codemirror_mode": {
    "name": "ipython",
    "version": 3
   },
   "file_extension": ".py",
   "mimetype": "text/x-python",
   "name": "python",
   "nbconvert_exporter": "python",
   "pygments_lexer": "ipython3",
   "version": "3.8.5"
  }
 },
 "nbformat": 4,
 "nbformat_minor": 5
}
